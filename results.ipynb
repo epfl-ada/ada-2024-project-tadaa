{
 "cells": [
  {
   "cell_type": "markdown",
   "id": "83b7d54a6ac4e7de",
   "metadata": {},
   "source": [
    "# Life 101\n",
    "\n",
    "In this notebook, we create a simple analogy between Wikispeedia game and \"Life\". We found out that some advices given in the game are also applicable in real life and we can learn from them! "
   ]
  },
  {
   "cell_type": "markdown",
   "id": "6d804c01cbafdb4f",
   "metadata": {},
   "source": [
    "# Data Preparation"
   ]
  },
  {
   "cell_type": "code",
   "execution_count": null,
   "id": "4136d4995b6c0d05",
   "metadata": {
    "ExecuteTime": {
     "end_time": "2024-11-11T20:51:59.256712Z",
     "start_time": "2024-11-11T20:51:59.131506Z"
    }
   },
   "outputs": [
    {
     "name": "stdout",
     "output_type": "stream",
     "text": [
      "The autoreload extension is already loaded. To reload it, use:\n",
      "  %reload_ext autoreload\n"
     ]
    }
   ],
   "source": [
    "from numpy.lib.utils import source\n",
    "\n",
    "import src.utils as utils\n",
    "import src.LLM as LLM\n",
    "# automatically reload the module in case of changes\n",
    "%load_ext autoreload\n",
    "%autoreload 2"
   ]
  },
  {
   "cell_type": "code",
   "execution_count": null,
   "id": "78cdb94385b61513",
   "metadata": {
    "ExecuteTime": {
     "end_time": "2024-11-12T08:06:33.832547Z",
     "start_time": "2024-11-12T08:06:33.554061Z"
    }
   },
   "outputs": [],
   "source": [
    "finished_paths = utils.load_dataframe(\"./data/wikispeedia_paths-and-graph/paths_finished.tsv\", skip_rows=16, columns=[\"hashedIpAddress\", \"timestamp\", \"durationInSec\", \"path\", \"rating\"])\n",
    "\n",
    "unfinished_paths = utils.load_dataframe(\"./data/wikispeedia_paths-and-graph/paths_unfinished.tsv\", skip_rows=16, columns=[\"hashedIpAddress\", \"timestamp\", \"durationInSec\", \"path\", \"target\", \"type\"])\n",
    "\n",
    "categories = utils.load_dataframe(\"./data/wikispeedia_paths-and-graph/categories.tsv\", skip_rows=12, columns=[\"page\", \"category\"])\n",
    "\n",
    "links_df = utils.load_dataframe(\"./data/wikispeedia_paths-and-graph/links.tsv\", skip_rows=12, columns=[\"source\", \"target\"])"
   ]
  },
  {
   "cell_type": "code",
   "execution_count": null,
   "id": "9636276a76265391",
   "metadata": {},
   "outputs": [
    {
     "name": "stderr",
     "output_type": "stream",
     "text": [
      "c:\\Users\\hasse\\Documents\\MA1\\ADA\\project\\ada-2024-project-tadaa\\src\\utils.py:53: FutureWarning: A value is trying to be set on a copy of a DataFrame or Series through chained assignment using an inplace method.\n",
      "The behavior will change in pandas 3.0. This inplace method will never work because the intermediate object on which we are setting values always behaves as a copy.\n",
      "\n",
      "For example, when doing 'df[col].method(value, inplace=True)', try using 'df.method({col: value}, inplace=True)' or df[col] = df[col].method(value) instead, to perform the operation inplace on the original object.\n",
      "\n",
      "\n",
      "  paths_df[\"rating\"].fillna(-1, inplace=True)\n"
     ]
    }
   ],
   "source": [
    "categories_dict = utils.manage_categories(categories.copy())\n",
    "finished_paths_df = utils.manage_paths(finished_paths.copy(), categories_dict.copy())\n",
    "unfinished_paths_df = utils.manage_paths(unfinished_paths.copy(), categories_dict.copy())\n",
    "links_dict = utils.manage_links(links_df.copy())\n",
    "graph = utils.create_graph(links_df.copy())\n",
    "finished_paths_df.to_csv(\"./data/clean_data/clean_finished_paths.csv\")\n",
    "unfinished_paths_df.to_csv(\"./data/clean_data/clean_unfinished_paths.csv\")\n"
   ]
  },
  {
   "cell_type": "markdown",
   "id": "7da9d711a631ccc3",
   "metadata": {},
   "source": [
    "# Don't trust LLMs blindly! (Not you Copilot, you know I love you)"
   ]
  },
  {
   "cell_type": "markdown",
   "id": "c3f341945cacf41",
   "metadata": {},
   "source": [
    "We will compare people performance to LLM performance by condidering the most taken paths by people and launching them on a 4bit quantized version of Qwen-3b. A fairly small LLM that could run on our machines/Colab in a reasonable time."
   ]
  },
  {
   "cell_type": "markdown",
   "id": "c7dcf9c43f2df1b1",
   "metadata": {},
   "source": [
    "## Most taken paths by players"
   ]
  },
  {
   "cell_type": "code",
   "execution_count": null,
   "id": "64b4e25c2083736b",
   "metadata": {
    "ExecuteTime": {
     "end_time": "2024-11-12T08:26:24.561378Z",
     "start_time": "2024-11-12T08:26:24.358678Z"
    }
   },
   "outputs": [
    {
     "data": {
      "text/plain": [
       "(['Asteroid',\n",
       "  'Brain',\n",
       "  'Theatre',\n",
       "  'Pyramid',\n",
       "  'Batman',\n",
       "  'Bird',\n",
       "  'Batman',\n",
       "  'Bird',\n",
       "  'Beer',\n",
       "  'Batman'],\n",
       " ['Viking',\n",
       "  'Telephone',\n",
       "  'Zebra',\n",
       "  'Bean',\n",
       "  'Wood',\n",
       "  'Great_white_shark',\n",
       "  'The_Holocaust',\n",
       "  'Adolf_Hitler',\n",
       "  'Sun',\n",
       "  'Banana'])"
      ]
     },
     "execution_count": 48,
     "metadata": {},
     "output_type": "execute_result"
    }
   ],
   "source": [
    "top_paths = finished_paths.groupby([\"source\", \"target\"]).size().sort_values(ascending=False).head(10)\n",
    "sources = top_paths.index.get_level_values(0).tolist()\n",
    "targets = top_paths.index.get_level_values(1).tolist()\n",
    "paths = LLM.llm_paths(sources, targets, links_dict)"
   ]
  },
  {
   "cell_type": "code",
   "execution_count": null,
   "id": "cc13af14f933f7b7",
   "metadata": {},
   "outputs": [],
   "source": []
  }
 ],
 "metadata": {
  "kernelspec": {
   "display_name": "ada",
   "language": "python",
   "name": "python3"
  },
  "language_info": {
   "codemirror_mode": {
    "name": "ipython",
    "version": 3
   },
   "file_extension": ".py",
   "mimetype": "text/x-python",
   "name": "python",
   "nbconvert_exporter": "python",
   "pygments_lexer": "ipython3",
   "version": "3.11.10"
  }
 },
 "nbformat": 4,
 "nbformat_minor": 5
}

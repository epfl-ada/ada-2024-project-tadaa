{
 "cells": [
  {
   "cell_type": "code",
   "id": "initial_id",
   "metadata": {
    "collapsed": true,
    "ExecuteTime": {
     "end_time": "2024-11-09T17:18:55.793280Z",
     "start_time": "2024-11-09T17:18:55.787746Z"
    }
   },
   "source": [
    "import matplotlib.pyplot as plt\n",
    "import pandas as pd"
   ],
   "outputs": [],
   "execution_count": 1
  },
  {
   "cell_type": "markdown",
   "id": "864f1c02",
   "metadata": {},
   "source": [
    "## Finished Paths"
   ]
  },
  {
   "cell_type": "code",
   "id": "75e680621095806b",
   "metadata": {
    "collapsed": false,
    "ExecuteTime": {
     "end_time": "2024-11-09T17:23:42.487798Z",
     "start_time": "2024-11-09T17:23:42.363923Z"
    }
   },
   "source": [
    "# Load the finished_paths from tsv file\n",
    "file = \"./wikispeedia_paths-and-graph/paths_finished.tsv\"\n",
    "\"\"\"\n",
    "# Successful (i.e., finished) Wikispeedia paths.\n",
    "# Article names are URL-encoded; e.g., in Java they can be decoded using java.net.URLDecoder.decode(articleName, \"UTF-8\").\n",
    "# Articles in a path are separated by \";\".\n",
    "# Back clicks are represented as \"<\".\n",
    "# Ratings are optionally given by the user after finishing the game and range from 1 (\"easy\") to 5 (\"brutal\").\n",
    "# Missing ratings are represented as \"NULL\".\n",
    "# FORMAT:   hashedIpAddress   timestamp   durationInSec   path   rating\n",
    "#\n",
    "# When publishing on this data set, please cite:\n",
    "# (1) Robert West and Jure Leskovec:\n",
    "#     Human Wayfinding in Information Networks.\n",
    "#     21st International World Wide Web Conference (WWW), 2012.\n",
    "# (2) Robert West, Joelle Pineau, and Doina Precup:\n",
    "#     Wikispeedia: An Online Game for Inferring Semantic Distances between Concepts.\n",
    "#     21st International Joint Conference on Artificial Intelligence (IJCAI), 2009.\n",
    "\"\"\"\n",
    "finished_paths = pd.read_csv(file, sep='\\t', header=None, skiprows=16)\n",
    "finished_paths.columns = [\"hashedIpAddress\", \"timestamp\", \"durationInSec\", \"path\", \"rating\"]\n",
    "finished_paths"
   ],
   "outputs": [
    {
     "data": {
      "text/plain": [
       "        hashedIpAddress   timestamp  durationInSec  \\\n",
       "0      6a3701d319fc3754  1297740409            166   \n",
       "1      3824310e536af032  1344753412             88   \n",
       "2      415612e93584d30e  1349298640            138   \n",
       "3      64dd5cd342e3780c  1265613925             37   \n",
       "4      015245d773376aab  1366730828            175   \n",
       "...                 ...         ...            ...   \n",
       "51313  15a13a1d66ef5456  1349231015             66   \n",
       "51314  2ef7ac844cefda58  1300254138            165   \n",
       "51315  12863abb7887f890  1385095372            228   \n",
       "51316  19f8284371753362  1298792567             56   \n",
       "51317  24b84602179de377  1318122701             30   \n",
       "\n",
       "                                                    path  rating  \n",
       "0      14th_century;15th_century;16th_century;Pacific...     NaN  \n",
       "1      14th_century;Europe;Africa;Atlantic_slave_trad...     3.0  \n",
       "2      14th_century;Niger;Nigeria;British_Empire;Slav...     NaN  \n",
       "3         14th_century;Renaissance;Ancient_Greece;Greece     NaN  \n",
       "4      14th_century;Italy;Roman_Catholic_Church;HIV;R...     3.0  \n",
       "...                                                  ...     ...  \n",
       "51313                   Yagan;Ancient_Egypt;Civilization     NaN  \n",
       "51314  Yagan;Folklore;Brothers_Grimm;<;19th_century;C...     3.0  \n",
       "51315  Yagan;Australia;England;France;United_States;T...     NaN  \n",
       "51316  Yarralumla%2C_Australian_Capital_Territory;Aus...     1.0  \n",
       "51317                            Ziad_Jarrah;Germany;Jew     NaN  \n",
       "\n",
       "[51318 rows x 5 columns]"
      ],
      "text/html": [
       "<div>\n",
       "<style scoped>\n",
       "    .dataframe tbody tr th:only-of-type {\n",
       "        vertical-align: middle;\n",
       "    }\n",
       "\n",
       "    .dataframe tbody tr th {\n",
       "        vertical-align: top;\n",
       "    }\n",
       "\n",
       "    .dataframe thead th {\n",
       "        text-align: right;\n",
       "    }\n",
       "</style>\n",
       "<table border=\"1\" class=\"dataframe\">\n",
       "  <thead>\n",
       "    <tr style=\"text-align: right;\">\n",
       "      <th></th>\n",
       "      <th>hashedIpAddress</th>\n",
       "      <th>timestamp</th>\n",
       "      <th>durationInSec</th>\n",
       "      <th>path</th>\n",
       "      <th>rating</th>\n",
       "    </tr>\n",
       "  </thead>\n",
       "  <tbody>\n",
       "    <tr>\n",
       "      <th>0</th>\n",
       "      <td>6a3701d319fc3754</td>\n",
       "      <td>1297740409</td>\n",
       "      <td>166</td>\n",
       "      <td>14th_century;15th_century;16th_century;Pacific...</td>\n",
       "      <td>NaN</td>\n",
       "    </tr>\n",
       "    <tr>\n",
       "      <th>1</th>\n",
       "      <td>3824310e536af032</td>\n",
       "      <td>1344753412</td>\n",
       "      <td>88</td>\n",
       "      <td>14th_century;Europe;Africa;Atlantic_slave_trad...</td>\n",
       "      <td>3.0</td>\n",
       "    </tr>\n",
       "    <tr>\n",
       "      <th>2</th>\n",
       "      <td>415612e93584d30e</td>\n",
       "      <td>1349298640</td>\n",
       "      <td>138</td>\n",
       "      <td>14th_century;Niger;Nigeria;British_Empire;Slav...</td>\n",
       "      <td>NaN</td>\n",
       "    </tr>\n",
       "    <tr>\n",
       "      <th>3</th>\n",
       "      <td>64dd5cd342e3780c</td>\n",
       "      <td>1265613925</td>\n",
       "      <td>37</td>\n",
       "      <td>14th_century;Renaissance;Ancient_Greece;Greece</td>\n",
       "      <td>NaN</td>\n",
       "    </tr>\n",
       "    <tr>\n",
       "      <th>4</th>\n",
       "      <td>015245d773376aab</td>\n",
       "      <td>1366730828</td>\n",
       "      <td>175</td>\n",
       "      <td>14th_century;Italy;Roman_Catholic_Church;HIV;R...</td>\n",
       "      <td>3.0</td>\n",
       "    </tr>\n",
       "    <tr>\n",
       "      <th>...</th>\n",
       "      <td>...</td>\n",
       "      <td>...</td>\n",
       "      <td>...</td>\n",
       "      <td>...</td>\n",
       "      <td>...</td>\n",
       "    </tr>\n",
       "    <tr>\n",
       "      <th>51313</th>\n",
       "      <td>15a13a1d66ef5456</td>\n",
       "      <td>1349231015</td>\n",
       "      <td>66</td>\n",
       "      <td>Yagan;Ancient_Egypt;Civilization</td>\n",
       "      <td>NaN</td>\n",
       "    </tr>\n",
       "    <tr>\n",
       "      <th>51314</th>\n",
       "      <td>2ef7ac844cefda58</td>\n",
       "      <td>1300254138</td>\n",
       "      <td>165</td>\n",
       "      <td>Yagan;Folklore;Brothers_Grimm;&lt;;19th_century;C...</td>\n",
       "      <td>3.0</td>\n",
       "    </tr>\n",
       "    <tr>\n",
       "      <th>51315</th>\n",
       "      <td>12863abb7887f890</td>\n",
       "      <td>1385095372</td>\n",
       "      <td>228</td>\n",
       "      <td>Yagan;Australia;England;France;United_States;T...</td>\n",
       "      <td>NaN</td>\n",
       "    </tr>\n",
       "    <tr>\n",
       "      <th>51316</th>\n",
       "      <td>19f8284371753362</td>\n",
       "      <td>1298792567</td>\n",
       "      <td>56</td>\n",
       "      <td>Yarralumla%2C_Australian_Capital_Territory;Aus...</td>\n",
       "      <td>1.0</td>\n",
       "    </tr>\n",
       "    <tr>\n",
       "      <th>51317</th>\n",
       "      <td>24b84602179de377</td>\n",
       "      <td>1318122701</td>\n",
       "      <td>30</td>\n",
       "      <td>Ziad_Jarrah;Germany;Jew</td>\n",
       "      <td>NaN</td>\n",
       "    </tr>\n",
       "  </tbody>\n",
       "</table>\n",
       "<p>51318 rows × 5 columns</p>\n",
       "</div>"
      ]
     },
     "execution_count": 6,
     "metadata": {},
     "output_type": "execute_result"
    }
   ],
   "execution_count": 6
  },
  {
   "cell_type": "code",
   "id": "a13b700e3b689310",
   "metadata": {
    "collapsed": false,
    "ExecuteTime": {
     "end_time": "2024-11-09T17:25:34.995681Z",
     "start_time": "2024-11-09T17:25:34.828127Z"
    }
   },
   "source": [
    "# Load the finished_paths from tsv file\n",
    "file = \"./wikispeedia_paths-and-graph/paths_finished.tsv\"\n",
    "\"\"\"\n",
    "# Successful (i.e., finished) Wikispeedia paths.\n",
    "# Article names are URL-encoded; e.g., in Java they can be decoded using java.net.URLDecoder.decode(articleName, \"UTF-8\").\n",
    "# Articles in a path are separated by \";\".\n",
    "# Back clicks are represented as \"<\".\n",
    "# Ratings are optionally given by the user after finishing the game and range from 1 (\"easy\") to 5 (\"brutal\").\n",
    "# Missing ratings are represented as \"NULL\".\n",
    "# FORMAT:   hashedIpAddress   timestamp   durationInSec   path   rating\n",
    "#\n",
    "# When publishing on this data set, please cite:\n",
    "# (1) Robert West and Jure Leskovec:\n",
    "#     Human Wayfinding in Information Networks.\n",
    "#     21st International World Wide Web Conference (WWW), 2012.\n",
    "# (2) Robert West, Joelle Pineau, and Doina Precup:\n",
    "#     Wikispeedia: An Online Game for Inferring Semantic Distances between Concepts.\n",
    "#     21st International Joint Conference on Artificial Intelligence (IJCAI), 2009.\n",
    "\"\"\"\n",
    "finished_paths = pd.read_csv(file, sep='\\t', header=None, skiprows=16)\n",
    "finished_paths = finished_paths.dropna()\n",
    "finished_paths.columns = [\"hashedIpAddress\", \"timestamp\", \"durationInSec\", \"path\", \"rating\"]\n",
    "finished_paths"
   ],
   "outputs": [
    {
     "data": {
      "text/plain": [
       "        hashedIpAddress   timestamp  durationInSec  \\\n",
       "1      3824310e536af032  1344753412             88   \n",
       "4      015245d773376aab  1366730828            175   \n",
       "6      36dabfa133b20e3c  1249525912            112   \n",
       "7      20418ff4797f96be  1229188046            139   \n",
       "8      08888b1b428dd90e  1232241510             74   \n",
       "...                 ...         ...            ...   \n",
       "51310  55150dce4acb74c8  1340891297            117   \n",
       "51311  4753cde919cd5ce5  1348670636            418   \n",
       "51312  052ba30a41ff5a05  1371787558            133   \n",
       "51314  2ef7ac844cefda58  1300254138            165   \n",
       "51316  19f8284371753362  1298792567             56   \n",
       "\n",
       "                                                    path  rating  \n",
       "1      14th_century;Europe;Africa;Atlantic_slave_trad...     3.0  \n",
       "4      14th_century;Italy;Roman_Catholic_Church;HIV;R...     3.0  \n",
       "6                      14th_century;China;Gunpowder;Fire     2.0  \n",
       "7      14th_century;Time;Isaac_Newton;Light;Color;Rai...     1.0  \n",
       "8                        14th_century;Time;Light;Rainbow     3.0  \n",
       "...                                                  ...     ...  \n",
       "51310  Women%27s_rights;Property;Clothing;Weather;Autumn     5.0  \n",
       "51311  Work_%28thermodynamics%29;Energy;Aristotle;Poe...     3.0  \n",
       "51312  Work_%28thermodynamics%29;Cambridge;City_statu...     3.0  \n",
       "51314  Yagan;Folklore;Brothers_Grimm;<;19th_century;C...     3.0  \n",
       "51316  Yarralumla%2C_Australian_Capital_Territory;Aus...     1.0  \n",
       "\n",
       "[28501 rows x 5 columns]"
      ],
      "text/html": [
       "<div>\n",
       "<style scoped>\n",
       "    .dataframe tbody tr th:only-of-type {\n",
       "        vertical-align: middle;\n",
       "    }\n",
       "\n",
       "    .dataframe tbody tr th {\n",
       "        vertical-align: top;\n",
       "    }\n",
       "\n",
       "    .dataframe thead th {\n",
       "        text-align: right;\n",
       "    }\n",
       "</style>\n",
       "<table border=\"1\" class=\"dataframe\">\n",
       "  <thead>\n",
       "    <tr style=\"text-align: right;\">\n",
       "      <th></th>\n",
       "      <th>hashedIpAddress</th>\n",
       "      <th>timestamp</th>\n",
       "      <th>durationInSec</th>\n",
       "      <th>path</th>\n",
       "      <th>rating</th>\n",
       "    </tr>\n",
       "  </thead>\n",
       "  <tbody>\n",
       "    <tr>\n",
       "      <th>1</th>\n",
       "      <td>3824310e536af032</td>\n",
       "      <td>1344753412</td>\n",
       "      <td>88</td>\n",
       "      <td>14th_century;Europe;Africa;Atlantic_slave_trad...</td>\n",
       "      <td>3.0</td>\n",
       "    </tr>\n",
       "    <tr>\n",
       "      <th>4</th>\n",
       "      <td>015245d773376aab</td>\n",
       "      <td>1366730828</td>\n",
       "      <td>175</td>\n",
       "      <td>14th_century;Italy;Roman_Catholic_Church;HIV;R...</td>\n",
       "      <td>3.0</td>\n",
       "    </tr>\n",
       "    <tr>\n",
       "      <th>6</th>\n",
       "      <td>36dabfa133b20e3c</td>\n",
       "      <td>1249525912</td>\n",
       "      <td>112</td>\n",
       "      <td>14th_century;China;Gunpowder;Fire</td>\n",
       "      <td>2.0</td>\n",
       "    </tr>\n",
       "    <tr>\n",
       "      <th>7</th>\n",
       "      <td>20418ff4797f96be</td>\n",
       "      <td>1229188046</td>\n",
       "      <td>139</td>\n",
       "      <td>14th_century;Time;Isaac_Newton;Light;Color;Rai...</td>\n",
       "      <td>1.0</td>\n",
       "    </tr>\n",
       "    <tr>\n",
       "      <th>8</th>\n",
       "      <td>08888b1b428dd90e</td>\n",
       "      <td>1232241510</td>\n",
       "      <td>74</td>\n",
       "      <td>14th_century;Time;Light;Rainbow</td>\n",
       "      <td>3.0</td>\n",
       "    </tr>\n",
       "    <tr>\n",
       "      <th>...</th>\n",
       "      <td>...</td>\n",
       "      <td>...</td>\n",
       "      <td>...</td>\n",
       "      <td>...</td>\n",
       "      <td>...</td>\n",
       "    </tr>\n",
       "    <tr>\n",
       "      <th>51310</th>\n",
       "      <td>55150dce4acb74c8</td>\n",
       "      <td>1340891297</td>\n",
       "      <td>117</td>\n",
       "      <td>Women%27s_rights;Property;Clothing;Weather;Autumn</td>\n",
       "      <td>5.0</td>\n",
       "    </tr>\n",
       "    <tr>\n",
       "      <th>51311</th>\n",
       "      <td>4753cde919cd5ce5</td>\n",
       "      <td>1348670636</td>\n",
       "      <td>418</td>\n",
       "      <td>Work_%28thermodynamics%29;Energy;Aristotle;Poe...</td>\n",
       "      <td>3.0</td>\n",
       "    </tr>\n",
       "    <tr>\n",
       "      <th>51312</th>\n",
       "      <td>052ba30a41ff5a05</td>\n",
       "      <td>1371787558</td>\n",
       "      <td>133</td>\n",
       "      <td>Work_%28thermodynamics%29;Cambridge;City_statu...</td>\n",
       "      <td>3.0</td>\n",
       "    </tr>\n",
       "    <tr>\n",
       "      <th>51314</th>\n",
       "      <td>2ef7ac844cefda58</td>\n",
       "      <td>1300254138</td>\n",
       "      <td>165</td>\n",
       "      <td>Yagan;Folklore;Brothers_Grimm;&lt;;19th_century;C...</td>\n",
       "      <td>3.0</td>\n",
       "    </tr>\n",
       "    <tr>\n",
       "      <th>51316</th>\n",
       "      <td>19f8284371753362</td>\n",
       "      <td>1298792567</td>\n",
       "      <td>56</td>\n",
       "      <td>Yarralumla%2C_Australian_Capital_Territory;Aus...</td>\n",
       "      <td>1.0</td>\n",
       "    </tr>\n",
       "  </tbody>\n",
       "</table>\n",
       "<p>28501 rows × 5 columns</p>\n",
       "</div>"
      ]
     },
     "execution_count": 11,
     "metadata": {},
     "output_type": "execute_result"
    }
   ],
   "execution_count": 11
  },
  {
   "cell_type": "code",
   "id": "abe6e749f11ae4b1",
   "metadata": {
    "collapsed": false,
    "ExecuteTime": {
     "end_time": "2024-11-09T17:25:35.538484Z",
     "start_time": "2024-11-09T17:25:35.532751Z"
    }
   },
   "source": "",
   "outputs": [],
   "execution_count": null
  },
  {
   "cell_type": "code",
   "id": "aa4d3bd2",
   "metadata": {
    "ExecuteTime": {
     "end_time": "2024-11-09T17:25:38.859428Z",
     "start_time": "2024-11-09T17:25:36.077192Z"
    }
   },
   "source": [
    "# Transform timestamp to datetime\n",
    "finished_paths['timestamp'] =  finished_paths[\"timestamp\"].apply(lambda x: pd.to_datetime(x, unit='s'))\n",
    "\n",
    "# Split the path into a list\n",
    "finished_paths[\"path\"] = finished_paths[\"path\"].apply(lambda x: x.split(\";\"))\n",
    "\n",
    "# Count the number of clicks in each path (including back clicks)\n",
    "finished_paths = finished_paths.assign(nb_clicks=finished_paths[\"path\"].apply(lambda x: len(x)-1)) # -1 because we don't count the source article\n",
    "\n",
    "# Count the number of back clicks in each path\n",
    "finished_paths = finished_paths.assign(nb_back_clicks=finished_paths[\"path\"].apply(lambda x: x.count(\"<\")))\n",
    "\n",
    "# Count the path length (excluding back clicks)\n",
    "finished_paths = finished_paths.assign(path_length=finished_paths[\"nb_clicks\"] - 2 * finished_paths[\"nb_back_clicks\"])\n",
    "\n",
    "# Convert the rating to int\n",
    "finished_paths[\"rating\"] = finished_paths[\"rating\"].astype(int)\n",
    "\n",
    "finished_paths"
   ],
   "outputs": [
    {
     "data": {
      "text/plain": [
       "        hashedIpAddress           timestamp  durationInSec  \\\n",
       "1      3824310e536af032 2012-08-12 06:36:52             88   \n",
       "4      015245d773376aab 2013-04-23 15:27:08            175   \n",
       "6      36dabfa133b20e3c 2009-08-06 02:31:52            112   \n",
       "7      20418ff4797f96be 2008-12-13 17:07:26            139   \n",
       "8      08888b1b428dd90e 2009-01-18 01:18:30             74   \n",
       "...                 ...                 ...            ...   \n",
       "51310  55150dce4acb74c8 2012-06-28 13:48:17            117   \n",
       "51311  4753cde919cd5ce5 2012-09-26 14:43:56            418   \n",
       "51312  052ba30a41ff5a05 2013-06-21 04:05:58            133   \n",
       "51314  2ef7ac844cefda58 2011-03-16 05:42:18            165   \n",
       "51316  19f8284371753362 2011-02-27 07:42:47             56   \n",
       "\n",
       "                                                    path  rating  nb_clicks  \\\n",
       "1      [14th_century, Europe, Africa, Atlantic_slave_...       3          4   \n",
       "4      [14th_century, Italy, Roman_Catholic_Church, H...       3          6   \n",
       "6                 [14th_century, China, Gunpowder, Fire]       2          3   \n",
       "7      [14th_century, Time, Isaac_Newton, Light, Colo...       1          5   \n",
       "8                   [14th_century, Time, Light, Rainbow]       3          3   \n",
       "...                                                  ...     ...        ...   \n",
       "51310  [Women%27s_rights, Property, Clothing, Weather...       5          4   \n",
       "51311  [Work_%28thermodynamics%29, Energy, Aristotle,...       3         12   \n",
       "51312  [Work_%28thermodynamics%29, Cambridge, City_st...       3          6   \n",
       "51314  [Yagan, Folklore, Brothers_Grimm, <, 19th_cent...       3          8   \n",
       "51316  [Yarralumla%2C_Australian_Capital_Territory, A...       1          3   \n",
       "\n",
       "       nb_back_clicks  path_length  \n",
       "1                   0            4  \n",
       "4                   0            6  \n",
       "6                   0            3  \n",
       "7                   0            5  \n",
       "8                   0            3  \n",
       "...               ...          ...  \n",
       "51310               0            4  \n",
       "51311               0           12  \n",
       "51312               1            4  \n",
       "51314               1            6  \n",
       "51316               0            3  \n",
       "\n",
       "[28501 rows x 8 columns]"
      ],
      "text/html": [
       "<div>\n",
       "<style scoped>\n",
       "    .dataframe tbody tr th:only-of-type {\n",
       "        vertical-align: middle;\n",
       "    }\n",
       "\n",
       "    .dataframe tbody tr th {\n",
       "        vertical-align: top;\n",
       "    }\n",
       "\n",
       "    .dataframe thead th {\n",
       "        text-align: right;\n",
       "    }\n",
       "</style>\n",
       "<table border=\"1\" class=\"dataframe\">\n",
       "  <thead>\n",
       "    <tr style=\"text-align: right;\">\n",
       "      <th></th>\n",
       "      <th>hashedIpAddress</th>\n",
       "      <th>timestamp</th>\n",
       "      <th>durationInSec</th>\n",
       "      <th>path</th>\n",
       "      <th>rating</th>\n",
       "      <th>nb_clicks</th>\n",
       "      <th>nb_back_clicks</th>\n",
       "      <th>path_length</th>\n",
       "    </tr>\n",
       "  </thead>\n",
       "  <tbody>\n",
       "    <tr>\n",
       "      <th>1</th>\n",
       "      <td>3824310e536af032</td>\n",
       "      <td>2012-08-12 06:36:52</td>\n",
       "      <td>88</td>\n",
       "      <td>[14th_century, Europe, Africa, Atlantic_slave_...</td>\n",
       "      <td>3</td>\n",
       "      <td>4</td>\n",
       "      <td>0</td>\n",
       "      <td>4</td>\n",
       "    </tr>\n",
       "    <tr>\n",
       "      <th>4</th>\n",
       "      <td>015245d773376aab</td>\n",
       "      <td>2013-04-23 15:27:08</td>\n",
       "      <td>175</td>\n",
       "      <td>[14th_century, Italy, Roman_Catholic_Church, H...</td>\n",
       "      <td>3</td>\n",
       "      <td>6</td>\n",
       "      <td>0</td>\n",
       "      <td>6</td>\n",
       "    </tr>\n",
       "    <tr>\n",
       "      <th>6</th>\n",
       "      <td>36dabfa133b20e3c</td>\n",
       "      <td>2009-08-06 02:31:52</td>\n",
       "      <td>112</td>\n",
       "      <td>[14th_century, China, Gunpowder, Fire]</td>\n",
       "      <td>2</td>\n",
       "      <td>3</td>\n",
       "      <td>0</td>\n",
       "      <td>3</td>\n",
       "    </tr>\n",
       "    <tr>\n",
       "      <th>7</th>\n",
       "      <td>20418ff4797f96be</td>\n",
       "      <td>2008-12-13 17:07:26</td>\n",
       "      <td>139</td>\n",
       "      <td>[14th_century, Time, Isaac_Newton, Light, Colo...</td>\n",
       "      <td>1</td>\n",
       "      <td>5</td>\n",
       "      <td>0</td>\n",
       "      <td>5</td>\n",
       "    </tr>\n",
       "    <tr>\n",
       "      <th>8</th>\n",
       "      <td>08888b1b428dd90e</td>\n",
       "      <td>2009-01-18 01:18:30</td>\n",
       "      <td>74</td>\n",
       "      <td>[14th_century, Time, Light, Rainbow]</td>\n",
       "      <td>3</td>\n",
       "      <td>3</td>\n",
       "      <td>0</td>\n",
       "      <td>3</td>\n",
       "    </tr>\n",
       "    <tr>\n",
       "      <th>...</th>\n",
       "      <td>...</td>\n",
       "      <td>...</td>\n",
       "      <td>...</td>\n",
       "      <td>...</td>\n",
       "      <td>...</td>\n",
       "      <td>...</td>\n",
       "      <td>...</td>\n",
       "      <td>...</td>\n",
       "    </tr>\n",
       "    <tr>\n",
       "      <th>51310</th>\n",
       "      <td>55150dce4acb74c8</td>\n",
       "      <td>2012-06-28 13:48:17</td>\n",
       "      <td>117</td>\n",
       "      <td>[Women%27s_rights, Property, Clothing, Weather...</td>\n",
       "      <td>5</td>\n",
       "      <td>4</td>\n",
       "      <td>0</td>\n",
       "      <td>4</td>\n",
       "    </tr>\n",
       "    <tr>\n",
       "      <th>51311</th>\n",
       "      <td>4753cde919cd5ce5</td>\n",
       "      <td>2012-09-26 14:43:56</td>\n",
       "      <td>418</td>\n",
       "      <td>[Work_%28thermodynamics%29, Energy, Aristotle,...</td>\n",
       "      <td>3</td>\n",
       "      <td>12</td>\n",
       "      <td>0</td>\n",
       "      <td>12</td>\n",
       "    </tr>\n",
       "    <tr>\n",
       "      <th>51312</th>\n",
       "      <td>052ba30a41ff5a05</td>\n",
       "      <td>2013-06-21 04:05:58</td>\n",
       "      <td>133</td>\n",
       "      <td>[Work_%28thermodynamics%29, Cambridge, City_st...</td>\n",
       "      <td>3</td>\n",
       "      <td>6</td>\n",
       "      <td>1</td>\n",
       "      <td>4</td>\n",
       "    </tr>\n",
       "    <tr>\n",
       "      <th>51314</th>\n",
       "      <td>2ef7ac844cefda58</td>\n",
       "      <td>2011-03-16 05:42:18</td>\n",
       "      <td>165</td>\n",
       "      <td>[Yagan, Folklore, Brothers_Grimm, &lt;, 19th_cent...</td>\n",
       "      <td>3</td>\n",
       "      <td>8</td>\n",
       "      <td>1</td>\n",
       "      <td>6</td>\n",
       "    </tr>\n",
       "    <tr>\n",
       "      <th>51316</th>\n",
       "      <td>19f8284371753362</td>\n",
       "      <td>2011-02-27 07:42:47</td>\n",
       "      <td>56</td>\n",
       "      <td>[Yarralumla%2C_Australian_Capital_Territory, A...</td>\n",
       "      <td>1</td>\n",
       "      <td>3</td>\n",
       "      <td>0</td>\n",
       "      <td>3</td>\n",
       "    </tr>\n",
       "  </tbody>\n",
       "</table>\n",
       "<p>28501 rows × 8 columns</p>\n",
       "</div>"
      ]
     },
     "execution_count": 12,
     "metadata": {},
     "output_type": "execute_result"
    }
   ],
   "execution_count": 12
  },
  {
   "cell_type": "code",
   "id": "56e4cc1f",
   "metadata": {},
   "source": [
    "finished_paths.describe()"
   ],
   "outputs": [],
   "execution_count": null
  },
  {
   "cell_type": "code",
   "id": "d08f66c2",
   "metadata": {},
   "source": [
    "duration_mask = finished_paths[\"durationInSec\"] == 0\n",
    "finished_paths[duration_mask]\n",
    "\n",
    "# Gives same result as above\n",
    "length_mask = finished_paths[\"path_length\"] == 0\n",
    "finished_paths[length_mask]"
   ],
   "outputs": [],
   "execution_count": null
  },
  {
   "cell_type": "code",
   "id": "5816893d",
   "metadata": {},
   "source": [
    "# Remove the paths with a duration of 0 (target=source)\n",
    "finished_paths = finished_paths[~duration_mask]\n",
    "finished_paths"
   ],
   "outputs": [],
   "execution_count": null
  },
  {
   "cell_type": "code",
   "id": "cf2df50c",
   "metadata": {},
   "source": [
    "finished_paths[finished_paths[\"path_length\"] == 419]"
   ],
   "outputs": [],
   "execution_count": null
  },
  {
   "cell_type": "code",
   "id": "c5f00ec1",
   "metadata": {},
   "source": [
    "# Compare duration of paths with path length\n",
    "plt.scatter(finished_paths[\"path_length\"], finished_paths[\"durationInSec\"])\n",
    "plt.xlabel(\"Path length\")\n",
    "plt.ylabel(\"Duration (s)\")\n",
    "plt.title(\"Duration of paths compared to path length\")\n",
    "plt.show()"
   ],
   "outputs": [],
   "execution_count": null
  },
  {
   "cell_type": "code",
   "id": "a6ccf51d",
   "metadata": {},
   "source": [
    "mask = finished_paths[\"path_length\"] < 100\n",
    "plt.scatter(finished_paths[mask][\"path_length\"], finished_paths[mask][\"durationInSec\"])\n",
    "plt.xlabel(\"Path length\")\n",
    "plt.ylabel(\"Duration (s)\")\n",
    "plt.title(\"Duration of paths compared to path length (path_length < 100)\")\n",
    "plt.show()"
   ],
   "outputs": [],
   "execution_count": null
  },
  {
   "cell_type": "markdown",
   "id": "cede37ff",
   "metadata": {},
   "source": [
    "## Unfinished Paths"
   ]
  },
  {
   "cell_type": "code",
   "id": "e07b1c8226822b6",
   "metadata": {
    "collapsed": false,
    "ExecuteTime": {
     "end_time": "2024-11-09T17:18:56.798083800Z",
     "start_time": "2024-11-05T11:44:13.942125Z"
    }
   },
   "source": [
    "unfinished_paths = pd.read_csv(\"wikispeedia_paths-and-graph/paths_unfinished.tsv\", sep='\\t', header=None)\n",
    "\n",
    "\"\"\"\n",
    "# Unsuccessful (i.e., unfinished) Wikispeedia paths.\n",
    "# Article names are URL-encoded; e.g., in Java they can be decoded using java.net.URLDecoder.decode(articleName, \"UTF-8\").\n",
    "# Articles in a path are separated by \";\".\n",
    "# Back clicks are represented as \"<\".\n",
    "# There are two types of quitting:\n",
    "# (1) \"timeout\" means that no click was made for 30 minutes;\n",
    "# (2) \"restart\" means that the user started a new game without finishing the current one.\n",
    "# FORMAT:   hashedIpAddress   timestamp   durationInSec   path   target   type\n",
    "#\n",
    "# When publishing on this data set, please cite:\n",
    "# (1) Robert West and Jure Leskovec:\n",
    "#     Human Wayfinding in Information Networks.\n",
    "#     21st International World Wide Web Conference (WWW), 2012.\n",
    "# (2) Robert West, Joelle Pineau, and Doina Precup:\n",
    "#     Wikispeedia: An Online Game for Inferring Semantic Distances between Concepts.\n",
    "#     21st International Joint Conference on Artificial Intelligence (IJCAI), 2009.\"\"\"\n",
    "\n",
    "unfinished_paths.columns = [\"hashedIpAddress\", \"timestamp\", \"durationInSec\", \"path\", \"target\", \"type\"]\n",
    "unfinished_paths"
   ],
   "outputs": [],
   "execution_count": null
  },
  {
   "cell_type": "code",
   "id": "a7264d9153764de2",
   "metadata": {
    "collapsed": false,
    "ExecuteTime": {
     "end_time": "2024-11-09T17:18:56.798704800Z",
     "start_time": "2024-11-05T11:44:15.992594Z"
    }
   },
   "source": [
    "# Transform timestamp to datetime\n",
    "unfinished_paths['timestamp'] =  unfinished_paths[\"timestamp\"].apply(lambda x: pd.to_datetime(x, unit='s'))\n",
    "\n",
    "# Split the path into a list\n",
    "unfinished_paths[\"path\"] = unfinished_paths[\"path\"].apply(lambda x: x.split(\";\"))\n",
    "\n",
    "# Count the number of clicks in each path (including back clicks)\n",
    "unfinished_paths[\"nb_clicks\"] = unfinished_paths[\"path\"].apply(lambda x: len(x) - 1) # -1 because we don't count the source article\n",
    "\n",
    "# Count the number of back clicks in each path\n",
    "unfinished_paths[\"nb_back_clicks\"] = unfinished_paths[\"path\"].apply(lambda x: x.count(\"<\"))\n",
    "\n",
    "# Count the path length (excluding back clicks)\n",
    "unfinished_paths[\"path_length\"] = unfinished_paths[\"nb_clicks\"] - unfinished_paths[\"nb_back_clicks\"]\n",
    "\n",
    "# Create a column containing the play duration\n",
    "unfinished_paths[\"play_duration\"] = unfinished_paths[\"durationInSec\"]\n",
    "\n",
    "# Remove 1800 seconds from the play duration if the type is timeout and assign the result to the play duration\n",
    "unfinished_paths.loc[unfinished_paths[\"type\"] == \"timeout\", \"play_duration\"] = unfinished_paths.loc[unfinished_paths[\"type\"] == \"timeout\", \"play_duration\"].apply(lambda x: max(x - 1800, 0)) # ensures that the play duration is not negative"
   ],
   "outputs": [],
   "execution_count": null
  },
  {
   "cell_type": "code",
   "id": "8c79f199fd3de597",
   "metadata": {
    "collapsed": false,
    "ExecuteTime": {
     "end_time": "2024-11-09T17:18:56.798704800Z",
     "start_time": "2024-11-05T11:44:17.197277Z"
    }
   },
   "source": [
    "unfinished_paths.plot.hist(y=\"play_duration\", bins=100, title=\"Distribution of play duration of unfinished paths\", xlabel=\"Duration in seconds\", ylabel=\"Number of paths\", log=True)\n",
    "plt.show()\n",
    "finished_paths.plot.hist(y=\"durationInSec\", bins=100, title=\"Distribution of duration of finished paths\", xlabel=\"Duration in seconds\", ylabel=\"Number of paths\", log=True)\n",
    "plt.show()"
   ],
   "outputs": [],
   "execution_count": null
  },
  {
   "cell_type": "markdown",
   "id": "5e604c27",
   "metadata": {},
   "source": [
    "## Categories"
   ]
  },
  {
   "cell_type": "code",
   "id": "56c0d148ada1c5d1",
   "metadata": {
    "collapsed": false,
    "ExecuteTime": {
     "end_time": "2024-11-09T17:18:56.798704800Z",
     "start_time": "2024-11-05T11:44:20.004930Z"
    }
   },
   "source": [
    "\"\"\"\n",
    "# Hierarchical categories of all articles.\n",
    "# Many articles have more than one category. Some articles have no category.\n",
    "# Article names are URL-encoded; e.g., in Java they can be decoded using java.net.URLDecoder.decode(articleName, \"UTF-8\").\n",
    "# FORMAT:   article   category\n",
    "#\n",
    "# When publishing on this data set, please cite:\n",
    "# (1) Robert West and Jure Leskovec:\n",
    "#     Human Wayfinding in Information Networks.\n",
    "#     21st International World Wide Web Conference (WWW), 2012.\n",
    "# (2) Robert West, Joelle Pineau, and Doina Precup:\n",
    "#     Wikispeedia: An Online Game for Inferring Semantic Distances between Concepts.\n",
    "#     21st International Joint Conference on Artificial Intelligence (IJCAI), 2009.\"\"\"\n",
    "\n",
    "categories = pd.read_csv(\"wikispeedia_paths-and-graph/wikispeedia_paths-and-graph/categories.tsv\", sep='\\t', header=None)\n",
    "categories.columns = [\"article\", \"category\"]\n",
    "categories[\"category\"] = categories[\"category\"].apply(lambda x: x.split(\".\")[1:])\n",
    "categories"
   ],
   "outputs": [],
   "execution_count": null
  },
  {
   "cell_type": "code",
   "source": [],
   "metadata": {
    "collapsed": false
   },
   "id": "999ad99c4e0e2e3a",
   "outputs": [],
   "execution_count": null
  },
  {
   "cell_type": "code",
   "id": "41a749fc12e67f92",
   "metadata": {
    "collapsed": false,
    "ExecuteTime": {
     "end_time": "2024-11-09T17:18:56.798704800Z",
     "start_time": "2024-11-05T11:44:22.043718Z"
    }
   },
   "source": [
    "def compare_categories(category1, category2):\n",
    "    return len(set(category1).intersection(set(category2)))"
   ],
   "outputs": [],
   "execution_count": null
  },
  {
   "cell_type": "code",
   "id": "d24be624da729646",
   "metadata": {
    "collapsed": false,
    "ExecuteTime": {
     "end_time": "2024-11-09T17:18:56.798704800Z",
     "start_time": "2024-11-05T11:44:23.116187Z"
    }
   },
   "source": [
    "# Get source and target articles for each path\n",
    "unfinished_paths[\"source\"] = unfinished_paths[\"path\"].apply(lambda x: x[0])\n",
    "finished_paths[\"source\"] = finished_paths[\"path\"].apply(lambda x: x[0])\n",
    "finished_paths[\"target\"] = finished_paths[\"path\"].apply(lambda x: x[-1])"
   ],
   "outputs": [],
   "execution_count": null
  },
  {
   "cell_type": "code",
   "id": "1a317eff8e944b51",
   "metadata": {
    "collapsed": false,
    "ExecuteTime": {
     "end_time": "2024-11-09T17:18:56.798704800Z",
     "start_time": "2024-11-05T11:44:23.981233Z"
    }
   },
   "source": [
    "# Get the categories of the source and target articles for each path\n",
    "unfinished_paths = unfinished_paths.merge(categories, left_on=\"source\", right_on=\"article\").rename(columns={\"category\": \"source_category\"})\n",
    "unfinished_paths = unfinished_paths.merge(categories, left_on=\"target\", right_on=\"article\").rename(columns={\"category\": \"target_category\"})\n",
    "finished_paths = finished_paths.merge(categories, left_on=\"source\", right_on=\"article\").rename(columns={\"category\": \"source_category\"})\n",
    "finished_paths = finished_paths.merge(categories, left_on=\"target\", right_on=\"article\").rename(columns={\"category\": \"target_category\"})\n",
    "unfinished_paths.drop(columns=[\"article_x\", \"article_y\"], inplace=True)\n",
    "finished_paths.drop(columns=[\"article_x\", \"article_y\"], inplace=True)"
   ],
   "outputs": [],
   "execution_count": null
  },
  {
   "cell_type": "code",
   "id": "b0db25ef58f0632a",
   "metadata": {
    "collapsed": false,
    "ExecuteTime": {
     "end_time": "2024-11-09T17:18:56.798704800Z",
     "start_time": "2024-11-05T11:44:24.894318Z"
    }
   },
   "source": [
    "unfinished_paths"
   ],
   "outputs": [],
   "execution_count": null
  },
  {
   "cell_type": "code",
   "id": "d650f927cd0c5450",
   "metadata": {
    "collapsed": false,
    "ExecuteTime": {
     "end_time": "2024-11-09T17:18:56.798704800Z",
     "start_time": "2024-11-05T11:44:25.853565Z"
    }
   },
   "source": [
    "finished_paths"
   ],
   "outputs": [],
   "execution_count": null
  },
  {
   "cell_type": "code",
   "source": [
    "unfinished_paths[\"source_general_category\"] = unfinished_paths[\"source_category\"].apply(lambda x: x[0])\n",
    "unfinished_paths[\"target_general_category\"] = unfinished_paths[\"target_category\"].apply(lambda x: x[0])\n",
    "finished_paths[\"source_general_category\"] = finished_paths[\"source_category\"].apply(lambda x: x[0])\n",
    "finished_paths[\"target_general_category\"] = finished_paths[\"target_category\"].apply(lambda x: x[0])"
   ],
   "metadata": {
    "collapsed": false,
    "ExecuteTime": {
     "end_time": "2024-11-09T17:18:56.798704800Z",
     "start_time": "2024-11-05T11:44:26.714586Z"
    }
   },
   "id": "d7b463e05ebd3c66",
   "outputs": [],
   "execution_count": null
  },
  {
   "cell_type": "code",
   "source": [
    "categories.to_csv(\"clean_categories.csv\", index=False)\n",
    "finished_paths.to_csv(\"clean_finished_paths.csv\", index=False)\n",
    "unfinished_paths.to_csv(\"clean_unfinished_paths.csv\", index=False)"
   ],
   "metadata": {
    "collapsed": false,
    "ExecuteTime": {
     "end_time": "2024-11-09T17:18:56.798704800Z",
     "start_time": "2024-11-05T11:44:28.561868Z"
    }
   },
   "id": "2932dcc406aebfbf",
   "outputs": [],
   "execution_count": null
  },
  {
   "cell_type": "code",
   "source": [
    "finished_grouped_by_categories = finished_paths[[\"source_general_category\", \"target_general_category\", \"nb_clicks\"]].groupby([\"source_general_category\", \"target_general_category\"]).agg({\"nb_clicks\": \"mean\"}).reset_index()\n",
    "finished_grouped_by_categories"
   ],
   "metadata": {
    "collapsed": false,
    "ExecuteTime": {
     "end_time": "2024-11-09T17:18:56.798704800Z",
     "start_time": "2024-11-05T11:44:31.461226Z"
    }
   },
   "id": "325447e4c1f43eea",
   "outputs": [],
   "execution_count": null
  },
  {
   "cell_type": "code",
   "source": [
    "unfinished_grouped_by_categories = unfinished_paths[[\"source_general_category\", \"target_general_category\", \"nb_clicks\"]].groupby([\"source_general_category\", \"target_general_category\"]).agg({\"nb_clicks\": \"median\"}).reset_index()\n",
    "unfinished_grouped_by_categories"
   ],
   "metadata": {
    "collapsed": false,
    "ExecuteTime": {
     "end_time": "2024-11-09T17:18:56.798704800Z",
     "start_time": "2024-11-05T11:44:32.618578Z"
    }
   },
   "id": "87ab6b00a10eaba8",
   "outputs": [],
   "execution_count": null
  },
  {
   "cell_type": "code",
   "source": [
    "# Plot the average number of clicks from a source category to a target category\n",
    "import seaborn as sns\n",
    "finished_matrix = finished_grouped_by_categories.pivot(index=\"source_general_category\", columns=\"target_general_category\", values=\"nb_clicks\")\n",
    "finished_matrix = finished_matrix.reindex(finished_matrix.sum().sort_values(ascending=False).index, axis=1)\n",
    "sns.heatmap(finished_matrix, cmap=\"YlGnBu\")\n",
    "plt.show()\n"
   ],
   "metadata": {
    "collapsed": false,
    "ExecuteTime": {
     "end_time": "2024-11-09T17:18:56.798704800Z",
     "start_time": "2024-11-05T11:50:30.620680Z"
    }
   },
   "id": "57d122b57b34ca5c",
   "outputs": [],
   "execution_count": null
  },
  {
   "cell_type": "code",
   "source": [
    "\n",
    "unfinished_matrix = unfinished_grouped_by_categories.pivot(index=\"source_general_category\", columns=\"target_general_category\", values=\"nb_clicks\")\n",
    "#order by the categories with the most paths\n",
    "unfinished_matrix = unfinished_matrix.reindex(unfinished_matrix.sum().sort_values(ascending=False).index, axis=1)\n",
    "sns.heatmap(unfinished_matrix, cmap=\"YlGnBu\")\n",
    "plt.show()"
   ],
   "metadata": {
    "collapsed": false,
    "ExecuteTime": {
     "end_time": "2024-11-09T17:18:56.798704800Z",
     "start_time": "2024-11-05T11:50:33.904867Z"
    }
   },
   "id": "c18d5e5b9abaf7a",
   "outputs": [],
   "execution_count": null
  },
  {
   "cell_type": "code",
   "source": [
    "target_categories_distribution = finished_paths[\"target_general_category\"].value_counts()\n",
    "target_categories_distribution.plot.bar()"
   ],
   "metadata": {
    "collapsed": false,
    "ExecuteTime": {
     "end_time": "2024-11-09T17:18:56.798704800Z",
     "start_time": "2024-11-05T11:50:35.374058Z"
    }
   },
   "id": "d037a74c06f3c5a5",
   "outputs": [],
   "execution_count": null
  },
  {
   "cell_type": "code",
   "source": [
    "unfinished_target_categories_distribution = unfinished_paths[\"target_general_category\"].value_counts()\n",
    "unfinished_target_categories_distribution.plot.bar()"
   ],
   "metadata": {
    "collapsed": false
   },
   "id": "33cf57fbd3ce349c",
   "outputs": [],
   "execution_count": null
  }
 ],
 "metadata": {
  "kernelspec": {
   "display_name": "ada",
   "language": "python",
   "name": "python3"
  },
  "language_info": {
   "codemirror_mode": {
    "name": "ipython",
    "version": 3
   },
   "file_extension": ".py",
   "mimetype": "text/x-python",
   "name": "python",
   "nbconvert_exporter": "python",
   "pygments_lexer": "ipython3",
   "version": "3.11.10"
  }
 },
 "nbformat": 4,
 "nbformat_minor": 5
}

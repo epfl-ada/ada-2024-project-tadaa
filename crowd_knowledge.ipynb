{
 "cells": [
  {
   "cell_type": "code",
   "execution_count": null,
   "metadata": {},
   "outputs": [],
   "source": [
    "import networkx as nx\n",
    "import matplotlib.pyplot as plt\n",
    "import numpy as np\n",
    "import pandas as pd\n",
    "import seaborn as sns\n",
    "import ast\n",
    "from collections import Counter"
   ]
  },
  {
   "cell_type": "markdown",
   "metadata": {},
   "source": [
    "Let's see if the majority is always right !"
   ]
  },
  {
   "cell_type": "code",
   "execution_count": 57,
   "metadata": {},
   "outputs": [],
   "source": [
    "# Load the data\n",
    "finished_paths = pd.read_csv(\"data/clean_finished_paths.csv\")"
   ]
  },
  {
   "cell_type": "code",
   "execution_count": 58,
   "metadata": {},
   "outputs": [
    {
     "data": {
      "text/plain": [
       "(51249, 16)"
      ]
     },
     "execution_count": 58,
     "metadata": {},
     "output_type": "execute_result"
    }
   ],
   "source": [
    "finished_paths.shape"
   ]
  },
  {
   "cell_type": "code",
   "execution_count": 59,
   "metadata": {},
   "outputs": [
    {
     "data": {
      "text/html": [
       "<div>\n",
       "<style scoped>\n",
       "    .dataframe tbody tr th:only-of-type {\n",
       "        vertical-align: middle;\n",
       "    }\n",
       "\n",
       "    .dataframe tbody tr th {\n",
       "        vertical-align: top;\n",
       "    }\n",
       "\n",
       "    .dataframe thead th {\n",
       "        text-align: right;\n",
       "    }\n",
       "</style>\n",
       "<table border=\"1\" class=\"dataframe\">\n",
       "  <thead>\n",
       "    <tr style=\"text-align: right;\">\n",
       "      <th></th>\n",
       "      <th>Unnamed: 0</th>\n",
       "      <th>timestamp</th>\n",
       "      <th>durationInSec</th>\n",
       "      <th>rating</th>\n",
       "      <th>nb_back_clicks</th>\n",
       "      <th>nb_clicks</th>\n",
       "      <th>path_length</th>\n",
       "    </tr>\n",
       "  </thead>\n",
       "  <tbody>\n",
       "    <tr>\n",
       "      <th>count</th>\n",
       "      <td>51249.000000</td>\n",
       "      <td>5.124900e+04</td>\n",
       "      <td>51249.000000</td>\n",
       "      <td>51249.000000</td>\n",
       "      <td>51249.000000</td>\n",
       "      <td>51249.000000</td>\n",
       "      <td>51249.000000</td>\n",
       "    </tr>\n",
       "    <tr>\n",
       "      <th>mean</th>\n",
       "      <td>25634.648091</td>\n",
       "      <td>1.296390e+09</td>\n",
       "      <td>158.256044</td>\n",
       "      <td>0.816738</td>\n",
       "      <td>0.400398</td>\n",
       "      <td>5.757381</td>\n",
       "      <td>4.956585</td>\n",
       "    </tr>\n",
       "    <tr>\n",
       "      <th>std</th>\n",
       "      <td>14808.057694</td>\n",
       "      <td>4.935694e+07</td>\n",
       "      <td>360.793518</td>\n",
       "      <td>1.823400</td>\n",
       "      <td>1.450585</td>\n",
       "      <td>4.680603</td>\n",
       "      <td>3.289866</td>\n",
       "    </tr>\n",
       "    <tr>\n",
       "      <th>min</th>\n",
       "      <td>0.000000</td>\n",
       "      <td>1.219095e+09</td>\n",
       "      <td>0.000000</td>\n",
       "      <td>-1.000000</td>\n",
       "      <td>0.000000</td>\n",
       "      <td>0.000000</td>\n",
       "      <td>0.000000</td>\n",
       "    </tr>\n",
       "    <tr>\n",
       "      <th>25%</th>\n",
       "      <td>12813.000000</td>\n",
       "      <td>1.250109e+09</td>\n",
       "      <td>60.000000</td>\n",
       "      <td>-1.000000</td>\n",
       "      <td>0.000000</td>\n",
       "      <td>4.000000</td>\n",
       "      <td>3.000000</td>\n",
       "    </tr>\n",
       "    <tr>\n",
       "      <th>50%</th>\n",
       "      <td>25629.000000</td>\n",
       "      <td>1.283896e+09</td>\n",
       "      <td>107.000000</td>\n",
       "      <td>1.000000</td>\n",
       "      <td>0.000000</td>\n",
       "      <td>5.000000</td>\n",
       "      <td>4.000000</td>\n",
       "    </tr>\n",
       "    <tr>\n",
       "      <th>75%</th>\n",
       "      <td>38441.000000</td>\n",
       "      <td>1.345233e+09</td>\n",
       "      <td>183.000000</td>\n",
       "      <td>2.000000</td>\n",
       "      <td>0.000000</td>\n",
       "      <td>7.000000</td>\n",
       "      <td>6.000000</td>\n",
       "    </tr>\n",
       "    <tr>\n",
       "      <th>max</th>\n",
       "      <td>51317.000000</td>\n",
       "      <td>1.389823e+09</td>\n",
       "      <td>35091.000000</td>\n",
       "      <td>5.000000</td>\n",
       "      <td>45.000000</td>\n",
       "      <td>434.000000</td>\n",
       "      <td>404.000000</td>\n",
       "    </tr>\n",
       "  </tbody>\n",
       "</table>\n",
       "</div>"
      ],
      "text/plain": [
       "         Unnamed: 0     timestamp  durationInSec        rating  \\\n",
       "count  51249.000000  5.124900e+04   51249.000000  51249.000000   \n",
       "mean   25634.648091  1.296390e+09     158.256044      0.816738   \n",
       "std    14808.057694  4.935694e+07     360.793518      1.823400   \n",
       "min        0.000000  1.219095e+09       0.000000     -1.000000   \n",
       "25%    12813.000000  1.250109e+09      60.000000     -1.000000   \n",
       "50%    25629.000000  1.283896e+09     107.000000      1.000000   \n",
       "75%    38441.000000  1.345233e+09     183.000000      2.000000   \n",
       "max    51317.000000  1.389823e+09   35091.000000      5.000000   \n",
       "\n",
       "       nb_back_clicks     nb_clicks   path_length  \n",
       "count    51249.000000  51249.000000  51249.000000  \n",
       "mean         0.400398      5.757381      4.956585  \n",
       "std          1.450585      4.680603      3.289866  \n",
       "min          0.000000      0.000000      0.000000  \n",
       "25%          0.000000      4.000000      3.000000  \n",
       "50%          0.000000      5.000000      4.000000  \n",
       "75%          0.000000      7.000000      6.000000  \n",
       "max         45.000000    434.000000    404.000000  "
      ]
     },
     "execution_count": 59,
     "metadata": {},
     "output_type": "execute_result"
    }
   ],
   "source": [
    "finished_paths.describe()"
   ]
  },
  {
   "cell_type": "code",
   "execution_count": 60,
   "metadata": {},
   "outputs": [
    {
     "data": {
      "text/plain": [
       "Index(['Unnamed: 0', 'hashedIpAddress', 'timestamp', 'durationInSec', 'path',\n",
       "       'rating', 'nb_back_clicks', 'nb_clicks', 'path_length', 'source',\n",
       "       'target', 'source_category', 'target_category',\n",
       "       'source_general_category', 'target_general_category', 'clean_path'],\n",
       "      dtype='object')"
      ]
     },
     "execution_count": 60,
     "metadata": {},
     "output_type": "execute_result"
    }
   ],
   "source": [
    "finished_paths.columns"
   ]
  },
  {
   "cell_type": "code",
   "execution_count": 61,
   "metadata": {},
   "outputs": [],
   "source": [
    "# Split the path into a list\n",
    "finished_paths[\"path\"] = finished_paths[\"path\"].apply(lambda x: ast.literal_eval(x))"
   ]
  },
  {
   "cell_type": "code",
   "execution_count": 62,
   "metadata": {},
   "outputs": [],
   "source": [
    "occ_all = Counter()\n",
    "for p in finished_paths[\"path\"]:\n",
    "    occ_all += Counter(p)"
   ]
  },
  {
   "cell_type": "code",
   "execution_count": 63,
   "metadata": {},
   "outputs": [
    {
     "data": {
      "text/plain": [
       "[('<', 20520),\n",
       " ('United_States', 8890),\n",
       " ('Europe', 4359),\n",
       " ('United_Kingdom', 3901),\n",
       " ('England', 3332),\n",
       " ('Earth', 3219),\n",
       " ('Africa', 2795),\n",
       " ('World_War_II', 2299),\n",
       " ('North_America', 1869),\n",
       " ('Germany', 1768)]"
      ]
     },
     "execution_count": 63,
     "metadata": {},
     "output_type": "execute_result"
    }
   ],
   "source": [
    "occ_all.most_common(10)"
   ]
  },
  {
   "cell_type": "code",
   "execution_count": 64,
   "metadata": {},
   "outputs": [],
   "source": [
    "occ_dest = Counter([p[-1] for p in finished_paths[\"path\"]])"
   ]
  },
  {
   "cell_type": "code",
   "execution_count": 65,
   "metadata": {},
   "outputs": [
    {
     "data": {
      "text/plain": [
       "[('Telephone', 1134),\n",
       " ('Viking', 1071),\n",
       " ('Zebra', 955),\n",
       " ('Bean', 673),\n",
       " ('Adolf_Hitler', 600),\n",
       " ('Sun', 201),\n",
       " ('God', 200),\n",
       " ('Wood', 185),\n",
       " ('Great_white_shark', 184),\n",
       " ('Jesus', 182)]"
      ]
     },
     "execution_count": 65,
     "metadata": {},
     "output_type": "execute_result"
    }
   ],
   "source": [
    "# We will try as \n",
    "occ_dest.most_common(10)"
   ]
  },
  {
   "cell_type": "code",
   "execution_count": 133,
   "metadata": {},
   "outputs": [],
   "source": [
    "def clean_path(path: list) -> list:\n",
    "    \"\"\"Clean a path from back clicks.\"\"\"\n",
    "    clean_path = []\n",
    "    count = 0\n",
    "    for element in path[::-1]:\n",
    "        if element == \"<\":\n",
    "            count += 1\n",
    "            continue\n",
    "        if count > 0:\n",
    "            count -= 1\n",
    "            continue\n",
    "        clean_path.append(element)\n",
    "    return clean_path[::-1]"
   ]
  },
  {
   "cell_type": "code",
   "execution_count": 134,
   "metadata": {},
   "outputs": [],
   "source": [
    "# A simple len computation would not give us the right length for a path as you have to take into account the backbutton clicked\n",
    "# and not taking into account the first page as the player do not choose it\n",
    "def path_length(list):\n",
    "    return len(clean_path(list)) - 1"
   ]
  },
  {
   "cell_type": "code",
   "execution_count": 66,
   "metadata": {},
   "outputs": [],
   "source": [
    "def find_target(target, list):\n",
    "    # Find the target and its successor\n",
    "    ret = ''\n",
    "    for i in range(len(list) - 1):  # Stop before the last element\n",
    "        if list[i] == target:\n",
    "            ret = list[i+1]\n",
    "    return ret"
   ]
  },
  {
   "cell_type": "code",
   "execution_count": 67,
   "metadata": {},
   "outputs": [],
   "source": [
    "def find_next(source, dest, df):\n",
    "    paths_src = df[df['path'].apply(lambda x: source in x and x[-1]==dest)]['path']\n",
    "    next_list = [find_target(source, path) for path in paths_src]\n",
    "    next_list = [elem for elem in next_list if elem != '']\n",
    "    number_of_votes = len(next_list)\n",
    "    if number_of_votes==0:\n",
    "        return number_of_votes, '' \n",
    "    else:\n",
    "        return number_of_votes, Counter(next_list).most_common(1)[0][0]\n"
   ]
  },
  {
   "cell_type": "code",
   "execution_count": 68,
   "metadata": {},
   "outputs": [
    {
     "data": {
      "text/plain": [
       "(14, 'United_States')"
      ]
     },
     "execution_count": 68,
     "metadata": {},
     "output_type": "execute_result"
    }
   ],
   "source": [
    "find_next('North_America', 'Telephone', finished_paths)"
   ]
  },
  {
   "cell_type": "code",
   "execution_count": 69,
   "metadata": {},
   "outputs": [
    {
     "data": {
      "text/plain": [
       "(135, 'Telephone')"
      ]
     },
     "execution_count": 69,
     "metadata": {},
     "output_type": "execute_result"
    }
   ],
   "source": [
    "find_next('Computer', 'Telephone', finished_paths)"
   ]
  },
  {
   "cell_type": "code",
   "execution_count": 70,
   "metadata": {},
   "outputs": [],
   "source": [
    "# Implement the actual crowd model where every players vote at each step\n",
    "def crowd(src, dest, df):\n",
    "    next = src\n",
    "    path = [src]\n",
    "    lst_votes = []\n",
    "    while(next != dest):\n",
    "        nb_votes, next = find_next(next, dest, df)\n",
    "        lst_votes.append(nb_votes)\n",
    "        if not(next in path) and nb_votes!=0:\n",
    "            path.append(next)\n",
    "        else:\n",
    "            break\n",
    "    return path, np.array(lst_votes)"
   ]
  },
  {
   "cell_type": "code",
   "execution_count": 71,
   "metadata": {},
   "outputs": [
    {
     "data": {
      "text/plain": [
       "[(('Asteroid', 'Viking'), 1043),\n",
       " (('Brain', 'Telephone'), 1040),\n",
       " (('Theatre', 'Zebra'), 905),\n",
       " (('Pyramid', 'Bean'), 642),\n",
       " (('Batman', 'Wood'), 148),\n",
       " (('Bird', 'Great_white_shark'), 138),\n",
       " (('Batman', 'The_Holocaust'), 119),\n",
       " (('Bird', 'Adolf_Hitler'), 107),\n",
       " (('Beer', 'Sun'), 99),\n",
       " (('Batman', 'Banana'), 69)]"
      ]
     },
     "execution_count": 71,
     "metadata": {},
     "output_type": "execute_result"
    }
   ],
   "source": [
    "# Let's find the most played paths\n",
    "occ_path = Counter([(p[0], p[-1]) for p in finished_paths[\"path\"]])\n",
    "occ_path.most_common(10)"
   ]
  },
  {
   "cell_type": "markdown",
   "metadata": {},
   "source": [
    "We have 4 paths that are way more present than others (10x), let's try these paths to see if we have a lot of votes"
   ]
  },
  {
   "cell_type": "code",
   "execution_count": 72,
   "metadata": {},
   "outputs": [
    {
     "data": {
      "text/plain": [
       "[(('Asteroid', 'Viking'), 5),\n",
       " (('Brain', 'Telephone'), 5),\n",
       " (('Theatre', 'Zebra'), 4),\n",
       " (('Pyramid', 'Bean'), 6)]"
      ]
     },
     "execution_count": 72,
     "metadata": {},
     "output_type": "execute_result"
    }
   ],
   "source": [
    "# Let's run the crowd model on the top 4 most played games\n",
    "res_crowd_top4 = []\n",
    "for ((src, dst), _) in occ_path.most_common(4):\n",
    "    path, votes = crowd(src, dst, finished_paths)\n",
    "    if (np.all(votes > 0)):\n",
    "        res_crowd_top4.append(((src, dst), len(path)))\n",
    "res_crowd_top4"
   ]
  },
  {
   "cell_type": "code",
   "execution_count": 73,
   "metadata": {},
   "outputs": [
    {
     "data": {
      "text/plain": [
       "[(('Asteroid', 'Viking'), 7.516778523489933),\n",
       " (('Brain', 'Telephone'), 7.1),\n",
       " (('Theatre', 'Zebra'), 7.83646408839779),\n",
       " (('Pyramid', 'Bean'), 8.246105919003115)]"
      ]
     },
     "execution_count": 73,
     "metadata": {},
     "output_type": "execute_result"
    }
   ],
   "source": [
    "# Let's see how well did actual players perform\n",
    "avg_res_top4 = []\n",
    "for ((src, dst), _) in occ_path.most_common(4):\n",
    "    paths = finished_paths[finished_paths['path'].apply(lambda x: x[0]==src and x[-1]==dst)]['path']\n",
    "    if len(paths)>0:\n",
    "        avg_res_top4.append(((src, dst), paths.apply(lambda p: len(p)).sum()/len(paths))) \n",
    "avg_res_top4"
   ]
  },
  {
   "cell_type": "code",
   "execution_count": 74,
   "metadata": {},
   "outputs": [],
   "source": [
    "# For the next analysis, it will be convenient to have functions to compute stats for any list of games\n",
    "def stats_crowd(games):\n",
    "    res_crowd = []\n",
    "    for (src, dst) in games:\n",
    "        path, votes = crowd(src, dst, finished_paths)\n",
    "        if (np.all(votes > 0)):\n",
    "            res_crowd.append(((src, dst), len(path)))\n",
    "    return res_crowd\n",
    "\n",
    "def stats_players(games):\n",
    "    avg_res = []\n",
    "    for (src, dst) in games:\n",
    "        paths = finished_paths[finished_paths['path'].apply(lambda x: x[0]==src and x[-1]==dst)]['path']\n",
    "        if len(paths)>0:\n",
    "            avg_res.append(((src, dst), paths.apply(lambda p: len(p)).sum()/len(paths)))\n",
    "    return avg_res"
   ]
  },
  {
   "cell_type": "code",
   "execution_count": 75,
   "metadata": {},
   "outputs": [],
   "source": [
    "# Let's now look for games with as much data as possible\n",
    "# We first store every words appearing in any game \n",
    "words = set()\n",
    "for p in finished_paths[\"path\"]:\n",
    "    words.update(p)"
   ]
  },
  {
   "cell_type": "code",
   "execution_count": 76,
   "metadata": {},
   "outputs": [
    {
     "data": {
      "text/plain": [
       "4170"
      ]
     },
     "execution_count": 76,
     "metadata": {},
     "output_type": "execute_result"
    }
   ],
   "source": [
    "len(words)"
   ]
  },
  {
   "cell_type": "code",
   "execution_count": null,
   "metadata": {},
   "outputs": [
    {
     "data": {
      "text/plain": [
       "309"
      ]
     },
     "execution_count": 78,
     "metadata": {},
     "output_type": "execute_result"
    }
   ],
   "source": [
    "# Combining the 4128 words as (src, dst) tuple is a computationnaly extensive operation + pretty useless as many words appear\n",
    "# less than 200 times => they will never give a game played a lot. Let's focus on words with more than 200 occurences\n",
    "popular_words = [element for element, count in occ_all.items() if count > 200]\n",
    "len(popular_words)"
   ]
  },
  {
   "cell_type": "code",
   "execution_count": null,
   "metadata": {},
   "outputs": [],
   "source": [
    "# We now compute a score for each tuple of different words\n",
    "# We take the score to be the minimum of voters for each step of the crowd computing\n",
    "# We think it is a fair metric as a big score attest without fail the path makes intervene a lot of players at each step\n",
    "# It would not be the case if we took just the sum of the list of votes\n",
    "scores = []\n",
    "iter = 0\n",
    "for w1 in popular_words:\n",
    "    for w2 in popular_words:\n",
    "        print(f'iter #{iter}/{len(popular_words)**2}')\n",
    "        iter += 1\n",
    "        if (w1 != w2):\n",
    "            res_path, votes = crowd(w1, w2, finished_paths)\n",
    "            if (np.all(votes > 0) and res_path[-1]==w2):\n",
    "                scores.append(((w1, w2), np.min(votes)))"
   ]
  },
  {
   "cell_type": "code",
   "execution_count": null,
   "metadata": {},
   "outputs": [],
   "source": [
    "sorted_scores = sorted(scores, key=lambda x: x[1], reverse=True)\n",
    "sorted_scores"
   ]
  },
  {
   "cell_type": "code",
   "execution_count": 104,
   "metadata": {},
   "outputs": [
    {
     "data": {
      "text/plain": [
       "11964"
      ]
     },
     "execution_count": 104,
     "metadata": {},
     "output_type": "execute_result"
    }
   ],
   "source": [
    "len(scores)"
   ]
  },
  {
   "cell_type": "code",
   "execution_count": 105,
   "metadata": {},
   "outputs": [
    {
     "data": {
      "text/plain": [
       "95"
      ]
     },
     "execution_count": 105,
     "metadata": {},
     "output_type": "execute_result"
    }
   ],
   "source": [
    "games_to_play = [(src, dst) for ((src, dst), count) in sorted_scores if count > 50 and src != '<' and dst != '<']\n",
    "len(games_to_play)"
   ]
  },
  {
   "cell_type": "code",
   "execution_count": 106,
   "metadata": {},
   "outputs": [],
   "source": [
    "# Let's see how well does the crowd in this game\n",
    "ans_crowd = []\n",
    "for (src, dst) in games_to_play:\n",
    "    ans_crowd.append(crowd(src, dst, finished_paths))"
   ]
  },
  {
   "cell_type": "code",
   "execution_count": null,
   "metadata": {},
   "outputs": [],
   "source": [
    "ans_crowd"
   ]
  },
  {
   "cell_type": "code",
   "execution_count": 135,
   "metadata": {},
   "outputs": [],
   "source": [
    "ans_stats = []\n",
    "for (src, dst) in games_to_play:\n",
    "    paths = finished_paths[finished_paths['path'].apply(lambda x: src in x and x[-1]==dst)]['path']\n",
    "    # Find the index of the first occurrence of the target element\n",
    "    paths_src = []\n",
    "    for p in paths:\n",
    "        start_index = p.index(src)\n",
    "        paths_src.append(p[start_index:])\n",
    "    if len(paths_src) == 0:\n",
    "        ans_stats.append(-1)\n",
    "    else:\n",
    "        ans_stats.append(sum(path_length(p) for p in paths_src) / len(paths_src))"
   ]
  },
  {
   "cell_type": "code",
   "execution_count": 139,
   "metadata": {},
   "outputs": [],
   "source": [
    "ans_stats = np.array(ans_stats)"
   ]
  },
  {
   "cell_type": "code",
   "execution_count": 140,
   "metadata": {},
   "outputs": [],
   "source": [
    "crowd_stats = np.array(list(map(lambda x: path_length(x[0]), ans_crowd)))"
   ]
  },
  {
   "cell_type": "code",
   "execution_count": 141,
   "metadata": {},
   "outputs": [
    {
     "data": {
      "text/plain": [
       "(95,)"
      ]
     },
     "execution_count": 141,
     "metadata": {},
     "output_type": "execute_result"
    }
   ],
   "source": [
    "crowd_stats.shape"
   ]
  },
  {
   "cell_type": "code",
   "execution_count": 142,
   "metadata": {},
   "outputs": [
    {
     "data": {
      "text/plain": [
       "(95,)"
      ]
     },
     "execution_count": 142,
     "metadata": {},
     "output_type": "execute_result"
    }
   ],
   "source": [
    "ans_stats.shape"
   ]
  },
  {
   "cell_type": "code",
   "execution_count": 143,
   "metadata": {},
   "outputs": [
    {
     "data": {
      "text/plain": [
       "True"
      ]
     },
     "execution_count": 143,
     "metadata": {},
     "output_type": "execute_result"
    }
   ],
   "source": [
    "np.all(crowd_stats > 0)"
   ]
  },
  {
   "cell_type": "code",
   "execution_count": 144,
   "metadata": {},
   "outputs": [
    {
     "name": "stdout",
     "output_type": "stream",
     "text": [
      "(95,)\n",
      "(95,)\n"
     ]
    }
   ],
   "source": [
    "print(ans_stats.shape)\n",
    "print(crowd_stats.shape)"
   ]
  },
  {
   "cell_type": "code",
   "execution_count": 145,
   "metadata": {},
   "outputs": [
    {
     "data": {
      "image/png": "[encoded data removed]",
      "text/plain": [
       "<Figure size 640x480 with 1 Axes>"
      ]
     },
     "metadata": {},
     "output_type": "display_data"
    }
   ],
   "source": [
    "plt.boxplot([ans_stats, crowd_stats], positions=[1, 2], widths=0.6)\n",
    "plt.xticks([1, 2], ['Real Data', 'Crowd Data'])\n",
    "plt.title(\"Comparison of Real Path Lengths and Crowd Path Lengths\")\n",
    "plt.ylabel(\"Averages\")\n",
    "plt.show()"
   ]
  },
  {
   "cell_type": "code",
   "execution_count": 146,
   "metadata": {},
   "outputs": [
    {
     "data": {
      "image/png": "[encoded data removed]",
      "text/plain": [
       "<Figure size 640x480 with 1 Axes>"
      ]
     },
     "metadata": {},
     "output_type": "display_data"
    }
   ],
   "source": [
    "ax = sns.histplot(ans_stats, kde=True, stat='density', color='blue', label='real data')\n",
    "ax = sns.histplot(crowd_stats, kde=True, stat='density', color='orange', label='crowd data')\n",
    "ax.set(title='Distribution of Averages',xlabel='Path length', ylabel='Proportion of paths')\n",
    "plt.legend()\n",
    "plt.show()"
   ]
  },
  {
   "cell_type": "markdown",
   "metadata": {},
   "source": [
    "Let's see for how many games, the crowd was right or had the same length"
   ]
  },
  {
   "cell_type": "code",
   "execution_count": 147,
   "metadata": {},
   "outputs": [
    {
     "data": {
      "text/plain": [
       "0.9157894736842105"
      ]
     },
     "execution_count": 147,
     "metadata": {},
     "output_type": "execute_result"
    }
   ],
   "source": [
    "np.sum((ans_stats - crowd_stats) >= 0) / len(ans_stats)"
   ]
  },
  {
   "cell_type": "markdown",
   "metadata": {},
   "source": [
    "So 92% of time, the crowd was right."
   ]
  },
  {
   "cell_type": "code",
   "execution_count": 148,
   "metadata": {},
   "outputs": [
    {
     "data": {
      "text/plain": [
       "0.9999999999999201"
      ]
     },
     "execution_count": 148,
     "metadata": {},
     "output_type": "execute_result"
    }
   ],
   "source": [
    "import scipy.stats\n",
    "\n",
    "# Let's compute a T-Test to see if the averages are significantly different, we choose a a paired t-test. \n",
    "# This test compares the means of two related groups\n",
    "res = scipy.stats.ttest_rel(ans_stats, crowd_stats, alternative='less')\n",
    "res.pvalue"
   ]
  },
  {
   "cell_type": "markdown",
   "metadata": {},
   "source": [
    "The null hypothesis (=\"the mean of the distribution underlying `ans_stats` is greater than the mean of the distribution underlying `crowd_stats`\").\\\n",
    "P-value >> 0.05, this indicates that our observation is not so unlikely to have occurred by chance. \\\n",
    "Therefore, we do not reject the null hypothesis "
   ]
  }
 ],
 "metadata": {
  "kernelspec": {
   "display_name": "ada",
   "language": "python",
   "name": "python3"
  },
  "language_info": {
   "codemirror_mode": {
    "name": "ipython",
    "version": 3
   },
   "file_extension": ".py",
   "mimetype": "text/x-python",
   "name": "python",
   "nbconvert_exporter": "python",
   "pygments_lexer": "ipython3",
   "version": "3.11.9"
  }
 },
 "nbformat": 4,
 "nbformat_minor": 2
}

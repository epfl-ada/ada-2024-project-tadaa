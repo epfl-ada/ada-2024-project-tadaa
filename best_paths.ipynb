{
 "cells": [
  {
   "cell_type": "code",
   "execution_count": 1,
   "metadata": {},
   "outputs": [],
   "source": [
    "import matplotlib.pyplot as plt\n",
    "import pandas as pd\n",
    "import seaborn as sns"
   ]
  },
  {
   "cell_type": "code",
   "execution_count": 16,
   "metadata": {},
   "outputs": [],
   "source": [
    "file_finished = \"data/wikispeedia_paths-and-graph/paths_finished.tsv\"\n",
    "column_names = [\"hashedIpAddress\", \"timestamp\", \"durationInSec\", \"path\", \"rating\"]\n",
    "finished_paths = pd.read_csv(file_finished, sep=\"\\t\", comment=\"#\", names=column_names)"
   ]
  },
  {
   "cell_type": "code",
   "execution_count": 30,
   "metadata": {},
   "outputs": [
    {
     "data": {
      "text/html": [
       "<div>\n",
       "<style scoped>\n",
       "    .dataframe tbody tr th:only-of-type {\n",
       "        vertical-align: middle;\n",
       "    }\n",
       "\n",
       "    .dataframe tbody tr th {\n",
       "        vertical-align: top;\n",
       "    }\n",
       "\n",
       "    .dataframe thead th {\n",
       "        text-align: right;\n",
       "    }\n",
       "</style>\n",
       "<table border=\"1\" class=\"dataframe\">\n",
       "  <thead>\n",
       "    <tr style=\"text-align: right;\">\n",
       "      <th></th>\n",
       "      <th>hashedIpAddress</th>\n",
       "      <th>timestamp</th>\n",
       "      <th>durationInSec</th>\n",
       "      <th>path</th>\n",
       "      <th>rating</th>\n",
       "      <th>nb_clicks</th>\n",
       "      <th>nb_back_clicks</th>\n",
       "      <th>path_length</th>\n",
       "    </tr>\n",
       "  </thead>\n",
       "  <tbody>\n",
       "    <tr>\n",
       "      <th>0</th>\n",
       "      <td>6a3701d319fc3754</td>\n",
       "      <td>1297740409</td>\n",
       "      <td>166</td>\n",
       "      <td>[14th_century, 15th_century, 16th_century, Pac...</td>\n",
       "      <td>-1</td>\n",
       "      <td>8</td>\n",
       "      <td>0</td>\n",
       "      <td>8</td>\n",
       "    </tr>\n",
       "    <tr>\n",
       "      <th>1</th>\n",
       "      <td>3824310e536af032</td>\n",
       "      <td>1344753412</td>\n",
       "      <td>88</td>\n",
       "      <td>[14th_century, Europe, Africa, Atlantic_slave_...</td>\n",
       "      <td>3</td>\n",
       "      <td>4</td>\n",
       "      <td>0</td>\n",
       "      <td>4</td>\n",
       "    </tr>\n",
       "    <tr>\n",
       "      <th>2</th>\n",
       "      <td>415612e93584d30e</td>\n",
       "      <td>1349298640</td>\n",
       "      <td>138</td>\n",
       "      <td>[14th_century, Niger, Nigeria, British_Empire,...</td>\n",
       "      <td>-1</td>\n",
       "      <td>7</td>\n",
       "      <td>0</td>\n",
       "      <td>7</td>\n",
       "    </tr>\n",
       "    <tr>\n",
       "      <th>3</th>\n",
       "      <td>64dd5cd342e3780c</td>\n",
       "      <td>1265613925</td>\n",
       "      <td>37</td>\n",
       "      <td>[14th_century, Renaissance, Ancient_Greece, Gr...</td>\n",
       "      <td>-1</td>\n",
       "      <td>3</td>\n",
       "      <td>0</td>\n",
       "      <td>3</td>\n",
       "    </tr>\n",
       "    <tr>\n",
       "      <th>4</th>\n",
       "      <td>015245d773376aab</td>\n",
       "      <td>1366730828</td>\n",
       "      <td>175</td>\n",
       "      <td>[14th_century, Italy, Roman_Catholic_Church, H...</td>\n",
       "      <td>3</td>\n",
       "      <td>6</td>\n",
       "      <td>0</td>\n",
       "      <td>6</td>\n",
       "    </tr>\n",
       "    <tr>\n",
       "      <th>...</th>\n",
       "      <td>...</td>\n",
       "      <td>...</td>\n",
       "      <td>...</td>\n",
       "      <td>...</td>\n",
       "      <td>...</td>\n",
       "      <td>...</td>\n",
       "      <td>...</td>\n",
       "      <td>...</td>\n",
       "    </tr>\n",
       "    <tr>\n",
       "      <th>51313</th>\n",
       "      <td>15a13a1d66ef5456</td>\n",
       "      <td>1349231015</td>\n",
       "      <td>66</td>\n",
       "      <td>[Yagan, Ancient_Egypt, Civilization]</td>\n",
       "      <td>-1</td>\n",
       "      <td>2</td>\n",
       "      <td>0</td>\n",
       "      <td>2</td>\n",
       "    </tr>\n",
       "    <tr>\n",
       "      <th>51314</th>\n",
       "      <td>2ef7ac844cefda58</td>\n",
       "      <td>1300254138</td>\n",
       "      <td>165</td>\n",
       "      <td>[Yagan, Folklore, Brothers_Grimm, &lt;, 19th_cent...</td>\n",
       "      <td>3</td>\n",
       "      <td>8</td>\n",
       "      <td>1</td>\n",
       "      <td>6</td>\n",
       "    </tr>\n",
       "    <tr>\n",
       "      <th>51315</th>\n",
       "      <td>12863abb7887f890</td>\n",
       "      <td>1385095372</td>\n",
       "      <td>228</td>\n",
       "      <td>[Yagan, Australia, England, France, United_Sta...</td>\n",
       "      <td>-1</td>\n",
       "      <td>6</td>\n",
       "      <td>0</td>\n",
       "      <td>6</td>\n",
       "    </tr>\n",
       "    <tr>\n",
       "      <th>51316</th>\n",
       "      <td>19f8284371753362</td>\n",
       "      <td>1298792567</td>\n",
       "      <td>56</td>\n",
       "      <td>[Yarralumla%2C_Australian_Capital_Territory, A...</td>\n",
       "      <td>1</td>\n",
       "      <td>3</td>\n",
       "      <td>0</td>\n",
       "      <td>3</td>\n",
       "    </tr>\n",
       "    <tr>\n",
       "      <th>51317</th>\n",
       "      <td>24b84602179de377</td>\n",
       "      <td>1318122701</td>\n",
       "      <td>30</td>\n",
       "      <td>[Ziad_Jarrah, Germany, Jew]</td>\n",
       "      <td>-1</td>\n",
       "      <td>2</td>\n",
       "      <td>0</td>\n",
       "      <td>2</td>\n",
       "    </tr>\n",
       "  </tbody>\n",
       "</table>\n",
       "<p>51318 rows × 8 columns</p>\n",
       "</div>"
      ],
      "text/plain": [
       "        hashedIpAddress   timestamp  durationInSec  \\\n",
       "0      6a3701d319fc3754  1297740409            166   \n",
       "1      3824310e536af032  1344753412             88   \n",
       "2      415612e93584d30e  1349298640            138   \n",
       "3      64dd5cd342e3780c  1265613925             37   \n",
       "4      015245d773376aab  1366730828            175   \n",
       "...                 ...         ...            ...   \n",
       "51313  15a13a1d66ef5456  1349231015             66   \n",
       "51314  2ef7ac844cefda58  1300254138            165   \n",
       "51315  12863abb7887f890  1385095372            228   \n",
       "51316  19f8284371753362  1298792567             56   \n",
       "51317  24b84602179de377  1318122701             30   \n",
       "\n",
       "                                                    path  rating  nb_clicks  \\\n",
       "0      [14th_century, 15th_century, 16th_century, Pac...      -1          8   \n",
       "1      [14th_century, Europe, Africa, Atlantic_slave_...       3          4   \n",
       "2      [14th_century, Niger, Nigeria, British_Empire,...      -1          7   \n",
       "3      [14th_century, Renaissance, Ancient_Greece, Gr...      -1          3   \n",
       "4      [14th_century, Italy, Roman_Catholic_Church, H...       3          6   \n",
       "...                                                  ...     ...        ...   \n",
       "51313               [Yagan, Ancient_Egypt, Civilization]      -1          2   \n",
       "51314  [Yagan, Folklore, Brothers_Grimm, <, 19th_cent...       3          8   \n",
       "51315  [Yagan, Australia, England, France, United_Sta...      -1          6   \n",
       "51316  [Yarralumla%2C_Australian_Capital_Territory, A...       1          3   \n",
       "51317                        [Ziad_Jarrah, Germany, Jew]      -1          2   \n",
       "\n",
       "       nb_back_clicks  path_length  \n",
       "0                   0            8  \n",
       "1                   0            4  \n",
       "2                   0            7  \n",
       "3                   0            3  \n",
       "4                   0            6  \n",
       "...               ...          ...  \n",
       "51313               0            2  \n",
       "51314               1            6  \n",
       "51315               0            6  \n",
       "51316               0            3  \n",
       "51317               0            2  \n",
       "\n",
       "[51318 rows x 8 columns]"
      ]
     },
     "execution_count": 30,
     "metadata": {},
     "output_type": "execute_result"
    }
   ],
   "source": [
    "# Split the path into a list\n",
    "finished_paths[\"path\"] = finished_paths[\"path\"].apply(lambda x: x.split(\";\"))\n",
    "\n",
    "# Count the number of clicks in each path (including back clicks)\n",
    "finished_paths = finished_paths.assign(nb_clicks=finished_paths[\"path\"].apply(lambda x: len(x)-1)) # -1 because we don't count the source article\n",
    "\n",
    "# Count the number of back clicks in each path\n",
    "finished_paths = finished_paths.assign(nb_back_clicks=finished_paths[\"path\"].apply(lambda x: x.count(\"<\")))\n",
    "\n",
    "# Count the path length (excluding back clicks)\n",
    "finished_paths = finished_paths.assign(path_length=finished_paths[\"nb_clicks\"] - 2 * finished_paths[\"nb_back_clicks\"])\n",
    "\n",
    "# Convert the rating to int\n",
    "finished_paths[\"rating\"] = finished_paths[\"rating\"].fillna(-1).astype(int) #0 means no rating\n",
    "\n",
    "finished_paths"
   ]
  },
  {
   "cell_type": "markdown",
   "metadata": {},
   "source": [
    "# TOP 10 PLAYERS"
   ]
  },
  {
   "cell_type": "markdown",
   "metadata": {},
   "source": [
    "Look at evolution of the 10 players who have played the most. Do they improve over time ?"
   ]
  },
  {
   "cell_type": "code",
   "execution_count": 31,
   "metadata": {},
   "outputs": [],
   "source": [
    "#group by player defined as the hashed IP address\n",
    "grouped_players = finished_paths.groupby(\"hashedIpAddress\")\n",
    "\n",
    "#count the number of paths each player has taken and sort by number of paths in descending order\n",
    "player_path_counts = grouped_players.size()\n",
    "player_path_counts = player_path_counts.sort_values(ascending=False)"
   ]
  },
  {
   "cell_type": "code",
   "execution_count": 32,
   "metadata": {},
   "outputs": [
    {
     "data": {
      "text/plain": [
       "hashedIpAddress\n",
       "0d57c8c57d75e2f5    4865\n",
       "473d6ac602c2b198     545\n",
       "7d5624e35c9523ef     292\n",
       "5bb5836b425e6bfe     243\n",
       "6b039e9953cf075e     231\n",
       "321e4b101c5b58ff     196\n",
       "0299542414c3f20a     172\n",
       "6d136e371e42474f     170\n",
       "66b196465d2b5d38     168\n",
       "7d29e9ab07e833d4     153\n",
       "dtype: int64"
      ]
     },
     "execution_count": 32,
     "metadata": {},
     "output_type": "execute_result"
    }
   ],
   "source": [
    "top10_players = player_path_counts.head(10)\n",
    "top10_players"
   ]
  },
  {
   "cell_type": "code",
   "execution_count": 35,
   "metadata": {},
   "outputs": [],
   "source": [
    "top10_players_plays = finished_paths[finished_paths[\"hashedIpAddress\"].isin(top10_players.index)]"
   ]
  },
  {
   "cell_type": "code",
   "execution_count": 36,
   "metadata": {},
   "outputs": [
    {
     "name": "stderr",
     "output_type": "stream",
     "text": [
      "C:\\Users\\poseidon\\AppData\\Local\\Temp\\ipykernel_18208\\674824087.py:4: DeprecationWarning: DataFrameGroupBy.apply operated on the grouping columns. This behavior is deprecated, and in a future version of pandas the grouping columns will be excluded from the operation. Either pass `include_groups=False` to exclude the groupings or explicitly select the grouping columns after groupby to silence this warning.\n",
      "  ordered_top10_paths = grouped_top10_paths.apply(lambda x: x.sort_values(by=\"timestamp\"))\n"
     ]
    }
   ],
   "source": [
    "#group by player and rank the paths by the order they were taken\n",
    "grouped_top10_paths = top10_players_plays.groupby(\"hashedIpAddress\")\n",
    "\n",
    "ordered_top10_paths = grouped_top10_paths.apply(lambda x: x.sort_values(by=\"timestamp\"))"
   ]
  },
  {
   "cell_type": "code",
   "execution_count": null,
   "metadata": {},
   "outputs": [],
   "source": []
  }
 ],
 "metadata": {
  "kernelspec": {
   "display_name": "ada",
   "language": "python",
   "name": "python3"
  },
  "language_info": {
   "codemirror_mode": {
    "name": "ipython",
    "version": 3
   },
   "file_extension": ".py",
   "mimetype": "text/x-python",
   "name": "python",
   "nbconvert_exporter": "python",
   "pygments_lexer": "ipython3",
   "version": "3.11.10"
  }
 },
 "nbformat": 4,
 "nbformat_minor": 2
}

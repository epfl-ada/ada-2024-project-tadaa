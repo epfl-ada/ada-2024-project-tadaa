{
 "cells": [
  {
   "cell_type": "code",
   "id": "initial_id",
   "metadata": {
    "collapsed": true,
    "ExecuteTime": {
     "end_time": "2024-11-04T21:32:31.359865Z",
     "start_time": "2024-11-04T21:32:31.353768Z"
    }
   },
   "source": [
    "import matplotlib.pyplot as plt\n",
    "import pandas as pd"
   ],
   "outputs": [],
   "execution_count": 2
  },
  {
   "cell_type": "markdown",
   "id": "864f1c02",
   "metadata": {},
   "source": [
    "## Finished Paths"
   ]
  },
  {
   "cell_type": "code",
   "id": "75e680621095806b",
   "metadata": {
    "collapsed": false,
    "ExecuteTime": {
     "end_time": "2024-11-04T21:15:19.923769Z",
     "start_time": "2024-11-04T21:15:19.834645Z"
    }
   },
   "source": [
    "# Load the finished_paths from tsv file\n",
    "file = \"./wikispeedia_paths-and-graph/wikispeedia_paths-and-graph/paths_finished.tsv\"\n",
    "\"\"\"\n",
    "# Successful (i.e., finished) Wikispeedia paths.\n",
    "# Article names are URL-encoded; e.g., in Java they can be decoded using java.net.URLDecoder.decode(articleName, \"UTF-8\").\n",
    "# Articles in a path are separated by \";\".\n",
    "# Back clicks are represented as \"<\".\n",
    "# Ratings are optionally given by the user after finishing the game and range from 1 (\"easy\") to 5 (\"brutal\").\n",
    "# Missing ratings are represented as \"NULL\".\n",
    "# FORMAT:   hashedIpAddress   timestamp   durationInSec   path   rating\n",
    "#\n",
    "# When publishing on this data set, please cite:\n",
    "# (1) Robert West and Jure Leskovec:\n",
    "#     Human Wayfinding in Information Networks.\n",
    "#     21st International World Wide Web Conference (WWW), 2012.\n",
    "# (2) Robert West, Joelle Pineau, and Doina Precup:\n",
    "#     Wikispeedia: An Online Game for Inferring Semantic Distances between Concepts.\n",
    "#     21st International Joint Conference on Artificial Intelligence (IJCAI), 2009.\n",
    "\"\"\"\n",
    "finished_paths = pd.read_csv(file, sep='\\t', header=None)\n",
    "finished_paths.columns = [\"hashedIpAddress\", \"timestamp\", \"durationInSec\", \"path\", \"rating\"]\n",
    "finished_paths"
   ],
   "outputs": [
    {
     "data": {
      "text/plain": [
       "        hashedIpAddress   timestamp  durationInSec  \\\n",
       "0      6a3701d319fc3754  1297740409            166   \n",
       "1      3824310e536af032  1344753412             88   \n",
       "2      415612e93584d30e  1349298640            138   \n",
       "3      64dd5cd342e3780c  1265613925             37   \n",
       "4      015245d773376aab  1366730828            175   \n",
       "...                 ...         ...            ...   \n",
       "51313  15a13a1d66ef5456  1349231015             66   \n",
       "51314  2ef7ac844cefda58  1300254138            165   \n",
       "51315  12863abb7887f890  1385095372            228   \n",
       "51316  19f8284371753362  1298792567             56   \n",
       "51317  24b84602179de377  1318122701             30   \n",
       "\n",
       "                                                    path  rating  \n",
       "0      14th_century;15th_century;16th_century;Pacific...     NaN  \n",
       "1      14th_century;Europe;Africa;Atlantic_slave_trad...     3.0  \n",
       "2      14th_century;Niger;Nigeria;British_Empire;Slav...     NaN  \n",
       "3         14th_century;Renaissance;Ancient_Greece;Greece     NaN  \n",
       "4      14th_century;Italy;Roman_Catholic_Church;HIV;R...     3.0  \n",
       "...                                                  ...     ...  \n",
       "51313                   Yagan;Ancient_Egypt;Civilization     NaN  \n",
       "51314  Yagan;Folklore;Brothers_Grimm;<;19th_century;C...     3.0  \n",
       "51315  Yagan;Australia;England;France;United_States;T...     NaN  \n",
       "51316  Yarralumla%2C_Australian_Capital_Territory;Aus...     1.0  \n",
       "51317                            Ziad_Jarrah;Germany;Jew     NaN  \n",
       "\n",
       "[51318 rows x 5 columns]"
      ],
      "text/html": [
       "<div>\n",
       "<style scoped>\n",
       "    .dataframe tbody tr th:only-of-type {\n",
       "        vertical-align: middle;\n",
       "    }\n",
       "\n",
       "    .dataframe tbody tr th {\n",
       "        vertical-align: top;\n",
       "    }\n",
       "\n",
       "    .dataframe thead th {\n",
       "        text-align: right;\n",
       "    }\n",
       "</style>\n",
       "<table border=\"1\" class=\"dataframe\">\n",
       "  <thead>\n",
       "    <tr style=\"text-align: right;\">\n",
       "      <th></th>\n",
       "      <th>hashedIpAddress</th>\n",
       "      <th>timestamp</th>\n",
       "      <th>durationInSec</th>\n",
       "      <th>path</th>\n",
       "      <th>rating</th>\n",
       "    </tr>\n",
       "  </thead>\n",
       "  <tbody>\n",
       "    <tr>\n",
       "      <th>0</th>\n",
       "      <td>6a3701d319fc3754</td>\n",
       "      <td>1297740409</td>\n",
       "      <td>166</td>\n",
       "      <td>14th_century;15th_century;16th_century;Pacific...</td>\n",
       "      <td>NaN</td>\n",
       "    </tr>\n",
       "    <tr>\n",
       "      <th>1</th>\n",
       "      <td>3824310e536af032</td>\n",
       "      <td>1344753412</td>\n",
       "      <td>88</td>\n",
       "      <td>14th_century;Europe;Africa;Atlantic_slave_trad...</td>\n",
       "      <td>3.0</td>\n",
       "    </tr>\n",
       "    <tr>\n",
       "      <th>2</th>\n",
       "      <td>415612e93584d30e</td>\n",
       "      <td>1349298640</td>\n",
       "      <td>138</td>\n",
       "      <td>14th_century;Niger;Nigeria;British_Empire;Slav...</td>\n",
       "      <td>NaN</td>\n",
       "    </tr>\n",
       "    <tr>\n",
       "      <th>3</th>\n",
       "      <td>64dd5cd342e3780c</td>\n",
       "      <td>1265613925</td>\n",
       "      <td>37</td>\n",
       "      <td>14th_century;Renaissance;Ancient_Greece;Greece</td>\n",
       "      <td>NaN</td>\n",
       "    </tr>\n",
       "    <tr>\n",
       "      <th>4</th>\n",
       "      <td>015245d773376aab</td>\n",
       "      <td>1366730828</td>\n",
       "      <td>175</td>\n",
       "      <td>14th_century;Italy;Roman_Catholic_Church;HIV;R...</td>\n",
       "      <td>3.0</td>\n",
       "    </tr>\n",
       "    <tr>\n",
       "      <th>...</th>\n",
       "      <td>...</td>\n",
       "      <td>...</td>\n",
       "      <td>...</td>\n",
       "      <td>...</td>\n",
       "      <td>...</td>\n",
       "    </tr>\n",
       "    <tr>\n",
       "      <th>51313</th>\n",
       "      <td>15a13a1d66ef5456</td>\n",
       "      <td>1349231015</td>\n",
       "      <td>66</td>\n",
       "      <td>Yagan;Ancient_Egypt;Civilization</td>\n",
       "      <td>NaN</td>\n",
       "    </tr>\n",
       "    <tr>\n",
       "      <th>51314</th>\n",
       "      <td>2ef7ac844cefda58</td>\n",
       "      <td>1300254138</td>\n",
       "      <td>165</td>\n",
       "      <td>Yagan;Folklore;Brothers_Grimm;&lt;;19th_century;C...</td>\n",
       "      <td>3.0</td>\n",
       "    </tr>\n",
       "    <tr>\n",
       "      <th>51315</th>\n",
       "      <td>12863abb7887f890</td>\n",
       "      <td>1385095372</td>\n",
       "      <td>228</td>\n",
       "      <td>Yagan;Australia;England;France;United_States;T...</td>\n",
       "      <td>NaN</td>\n",
       "    </tr>\n",
       "    <tr>\n",
       "      <th>51316</th>\n",
       "      <td>19f8284371753362</td>\n",
       "      <td>1298792567</td>\n",
       "      <td>56</td>\n",
       "      <td>Yarralumla%2C_Australian_Capital_Territory;Aus...</td>\n",
       "      <td>1.0</td>\n",
       "    </tr>\n",
       "    <tr>\n",
       "      <th>51317</th>\n",
       "      <td>24b84602179de377</td>\n",
       "      <td>1318122701</td>\n",
       "      <td>30</td>\n",
       "      <td>Ziad_Jarrah;Germany;Jew</td>\n",
       "      <td>NaN</td>\n",
       "    </tr>\n",
       "  </tbody>\n",
       "</table>\n",
       "<p>51318 rows × 5 columns</p>\n",
       "</div>"
      ]
     },
     "execution_count": 2,
     "metadata": {},
     "output_type": "execute_result"
    }
   ],
   "execution_count": 2
  },
  {
   "cell_type": "code",
   "id": "a13b700e3b689310",
   "metadata": {
    "collapsed": false,
    "ExecuteTime": {
     "end_time": "2024-11-04T21:15:21.198663Z",
     "start_time": "2024-11-04T21:15:20.032728Z"
    }
   },
   "source": [
    "# Load the finished_paths from tsv file\n",
    "file = \"wikispeedia_paths-and-graph/paths_finished.tsv\"\n",
    "\"\"\"\n",
    "# Successful (i.e., finished) Wikispeedia paths.\n",
    "# Article names are URL-encoded; e.g., in Java they can be decoded using java.net.URLDecoder.decode(articleName, \"UTF-8\").\n",
    "# Articles in a path are separated by \";\".\n",
    "# Back clicks are represented as \"<\".\n",
    "# Ratings are optionally given by the user after finishing the game and range from 1 (\"easy\") to 5 (\"brutal\").\n",
    "# Missing ratings are represented as \"NULL\".\n",
    "# FORMAT:   hashedIpAddress   timestamp   durationInSec   path   rating\n",
    "#\n",
    "# When publishing on this data set, please cite:\n",
    "# (1) Robert West and Jure Leskovec:\n",
    "#     Human Wayfinding in Information Networks.\n",
    "#     21st International World Wide Web Conference (WWW), 2012.\n",
    "# (2) Robert West, Joelle Pineau, and Doina Precup:\n",
    "#     Wikispeedia: An Online Game for Inferring Semantic Distances between Concepts.\n",
    "#     21st International Joint Conference on Artificial Intelligence (IJCAI), 2009.\n",
    "\"\"\"\n",
    "finished_paths = pd.read_csv(file, sep='\\t', header=None)\n",
    "finished_paths.columns = [\"hashedIpAddress\", \"timestamp\", \"durationInSec\", \"path\", \"rating\"]\n",
    "finished_paths"
   ],
   "outputs": [
    {
     "ename": "FileNotFoundError",
     "evalue": "[Errno 2] No such file or directory: 'wikispeedia_paths-and-graph/paths_finished.tsv'",
     "output_type": "error",
     "traceback": [
      "\u001B[1;31m---------------------------------------------------------------------------\u001B[0m",
      "\u001B[1;31mFileNotFoundError\u001B[0m                         Traceback (most recent call last)",
      "Cell \u001B[1;32mIn[3], line 20\u001B[0m\n\u001B[0;32m      2\u001B[0m file \u001B[38;5;241m=\u001B[39m \u001B[38;5;124m\"\u001B[39m\u001B[38;5;124mwikispeedia_paths-and-graph/paths_finished.tsv\u001B[39m\u001B[38;5;124m\"\u001B[39m\n\u001B[0;32m      3\u001B[0m \u001B[38;5;124;03m\"\"\"\u001B[39;00m\n\u001B[0;32m      4\u001B[0m \u001B[38;5;124;03m# Successful (i.e., finished) Wikispeedia paths.\u001B[39;00m\n\u001B[0;32m      5\u001B[0m \u001B[38;5;124;03m# Article names are URL-encoded; e.g., in Java they can be decoded using java.net.URLDecoder.decode(articleName, \"UTF-8\").\u001B[39;00m\n\u001B[1;32m   (...)\u001B[0m\n\u001B[0;32m     18\u001B[0m \u001B[38;5;124;03m#     21st International Joint Conference on Artificial Intelligence (IJCAI), 2009.\u001B[39;00m\n\u001B[0;32m     19\u001B[0m \u001B[38;5;124;03m\"\"\"\u001B[39;00m\n\u001B[1;32m---> 20\u001B[0m finished_paths \u001B[38;5;241m=\u001B[39m pd\u001B[38;5;241m.\u001B[39mread_csv(file, sep\u001B[38;5;241m=\u001B[39m\u001B[38;5;124m'\u001B[39m\u001B[38;5;130;01m\\t\u001B[39;00m\u001B[38;5;124m'\u001B[39m, header\u001B[38;5;241m=\u001B[39m\u001B[38;5;28;01mNone\u001B[39;00m)\n\u001B[0;32m     21\u001B[0m finished_paths\u001B[38;5;241m.\u001B[39mcolumns \u001B[38;5;241m=\u001B[39m [\u001B[38;5;124m\"\u001B[39m\u001B[38;5;124mhashedIpAddress\u001B[39m\u001B[38;5;124m\"\u001B[39m, \u001B[38;5;124m\"\u001B[39m\u001B[38;5;124mtimestamp\u001B[39m\u001B[38;5;124m\"\u001B[39m, \u001B[38;5;124m\"\u001B[39m\u001B[38;5;124mdurationInSec\u001B[39m\u001B[38;5;124m\"\u001B[39m, \u001B[38;5;124m\"\u001B[39m\u001B[38;5;124mpath\u001B[39m\u001B[38;5;124m\"\u001B[39m, \u001B[38;5;124m\"\u001B[39m\u001B[38;5;124mrating\u001B[39m\u001B[38;5;124m\"\u001B[39m]\n\u001B[0;32m     22\u001B[0m finished_paths\n",
      "File \u001B[1;32m~\\anaconda3\\envs\\ada\\Lib\\site-packages\\pandas\\io\\parsers\\readers.py:1026\u001B[0m, in \u001B[0;36mread_csv\u001B[1;34m(filepath_or_buffer, sep, delimiter, header, names, index_col, usecols, dtype, engine, converters, true_values, false_values, skipinitialspace, skiprows, skipfooter, nrows, na_values, keep_default_na, na_filter, verbose, skip_blank_lines, parse_dates, infer_datetime_format, keep_date_col, date_parser, date_format, dayfirst, cache_dates, iterator, chunksize, compression, thousands, decimal, lineterminator, quotechar, quoting, doublequote, escapechar, comment, encoding, encoding_errors, dialect, on_bad_lines, delim_whitespace, low_memory, memory_map, float_precision, storage_options, dtype_backend)\u001B[0m\n\u001B[0;32m   1013\u001B[0m kwds_defaults \u001B[38;5;241m=\u001B[39m _refine_defaults_read(\n\u001B[0;32m   1014\u001B[0m     dialect,\n\u001B[0;32m   1015\u001B[0m     delimiter,\n\u001B[1;32m   (...)\u001B[0m\n\u001B[0;32m   1022\u001B[0m     dtype_backend\u001B[38;5;241m=\u001B[39mdtype_backend,\n\u001B[0;32m   1023\u001B[0m )\n\u001B[0;32m   1024\u001B[0m kwds\u001B[38;5;241m.\u001B[39mupdate(kwds_defaults)\n\u001B[1;32m-> 1026\u001B[0m \u001B[38;5;28;01mreturn\u001B[39;00m _read(filepath_or_buffer, kwds)\n",
      "File \u001B[1;32m~\\anaconda3\\envs\\ada\\Lib\\site-packages\\pandas\\io\\parsers\\readers.py:620\u001B[0m, in \u001B[0;36m_read\u001B[1;34m(filepath_or_buffer, kwds)\u001B[0m\n\u001B[0;32m    617\u001B[0m _validate_names(kwds\u001B[38;5;241m.\u001B[39mget(\u001B[38;5;124m\"\u001B[39m\u001B[38;5;124mnames\u001B[39m\u001B[38;5;124m\"\u001B[39m, \u001B[38;5;28;01mNone\u001B[39;00m))\n\u001B[0;32m    619\u001B[0m \u001B[38;5;66;03m# Create the parser.\u001B[39;00m\n\u001B[1;32m--> 620\u001B[0m parser \u001B[38;5;241m=\u001B[39m TextFileReader(filepath_or_buffer, \u001B[38;5;241m*\u001B[39m\u001B[38;5;241m*\u001B[39mkwds)\n\u001B[0;32m    622\u001B[0m \u001B[38;5;28;01mif\u001B[39;00m chunksize \u001B[38;5;129;01mor\u001B[39;00m iterator:\n\u001B[0;32m    623\u001B[0m     \u001B[38;5;28;01mreturn\u001B[39;00m parser\n",
      "File \u001B[1;32m~\\anaconda3\\envs\\ada\\Lib\\site-packages\\pandas\\io\\parsers\\readers.py:1620\u001B[0m, in \u001B[0;36mTextFileReader.__init__\u001B[1;34m(self, f, engine, **kwds)\u001B[0m\n\u001B[0;32m   1617\u001B[0m     \u001B[38;5;28mself\u001B[39m\u001B[38;5;241m.\u001B[39moptions[\u001B[38;5;124m\"\u001B[39m\u001B[38;5;124mhas_index_names\u001B[39m\u001B[38;5;124m\"\u001B[39m] \u001B[38;5;241m=\u001B[39m kwds[\u001B[38;5;124m\"\u001B[39m\u001B[38;5;124mhas_index_names\u001B[39m\u001B[38;5;124m\"\u001B[39m]\n\u001B[0;32m   1619\u001B[0m \u001B[38;5;28mself\u001B[39m\u001B[38;5;241m.\u001B[39mhandles: IOHandles \u001B[38;5;241m|\u001B[39m \u001B[38;5;28;01mNone\u001B[39;00m \u001B[38;5;241m=\u001B[39m \u001B[38;5;28;01mNone\u001B[39;00m\n\u001B[1;32m-> 1620\u001B[0m \u001B[38;5;28mself\u001B[39m\u001B[38;5;241m.\u001B[39m_engine \u001B[38;5;241m=\u001B[39m \u001B[38;5;28mself\u001B[39m\u001B[38;5;241m.\u001B[39m_make_engine(f, \u001B[38;5;28mself\u001B[39m\u001B[38;5;241m.\u001B[39mengine)\n",
      "File \u001B[1;32m~\\anaconda3\\envs\\ada\\Lib\\site-packages\\pandas\\io\\parsers\\readers.py:1880\u001B[0m, in \u001B[0;36mTextFileReader._make_engine\u001B[1;34m(self, f, engine)\u001B[0m\n\u001B[0;32m   1878\u001B[0m     \u001B[38;5;28;01mif\u001B[39;00m \u001B[38;5;124m\"\u001B[39m\u001B[38;5;124mb\u001B[39m\u001B[38;5;124m\"\u001B[39m \u001B[38;5;129;01mnot\u001B[39;00m \u001B[38;5;129;01min\u001B[39;00m mode:\n\u001B[0;32m   1879\u001B[0m         mode \u001B[38;5;241m+\u001B[39m\u001B[38;5;241m=\u001B[39m \u001B[38;5;124m\"\u001B[39m\u001B[38;5;124mb\u001B[39m\u001B[38;5;124m\"\u001B[39m\n\u001B[1;32m-> 1880\u001B[0m \u001B[38;5;28mself\u001B[39m\u001B[38;5;241m.\u001B[39mhandles \u001B[38;5;241m=\u001B[39m get_handle(\n\u001B[0;32m   1881\u001B[0m     f,\n\u001B[0;32m   1882\u001B[0m     mode,\n\u001B[0;32m   1883\u001B[0m     encoding\u001B[38;5;241m=\u001B[39m\u001B[38;5;28mself\u001B[39m\u001B[38;5;241m.\u001B[39moptions\u001B[38;5;241m.\u001B[39mget(\u001B[38;5;124m\"\u001B[39m\u001B[38;5;124mencoding\u001B[39m\u001B[38;5;124m\"\u001B[39m, \u001B[38;5;28;01mNone\u001B[39;00m),\n\u001B[0;32m   1884\u001B[0m     compression\u001B[38;5;241m=\u001B[39m\u001B[38;5;28mself\u001B[39m\u001B[38;5;241m.\u001B[39moptions\u001B[38;5;241m.\u001B[39mget(\u001B[38;5;124m\"\u001B[39m\u001B[38;5;124mcompression\u001B[39m\u001B[38;5;124m\"\u001B[39m, \u001B[38;5;28;01mNone\u001B[39;00m),\n\u001B[0;32m   1885\u001B[0m     memory_map\u001B[38;5;241m=\u001B[39m\u001B[38;5;28mself\u001B[39m\u001B[38;5;241m.\u001B[39moptions\u001B[38;5;241m.\u001B[39mget(\u001B[38;5;124m\"\u001B[39m\u001B[38;5;124mmemory_map\u001B[39m\u001B[38;5;124m\"\u001B[39m, \u001B[38;5;28;01mFalse\u001B[39;00m),\n\u001B[0;32m   1886\u001B[0m     is_text\u001B[38;5;241m=\u001B[39mis_text,\n\u001B[0;32m   1887\u001B[0m     errors\u001B[38;5;241m=\u001B[39m\u001B[38;5;28mself\u001B[39m\u001B[38;5;241m.\u001B[39moptions\u001B[38;5;241m.\u001B[39mget(\u001B[38;5;124m\"\u001B[39m\u001B[38;5;124mencoding_errors\u001B[39m\u001B[38;5;124m\"\u001B[39m, \u001B[38;5;124m\"\u001B[39m\u001B[38;5;124mstrict\u001B[39m\u001B[38;5;124m\"\u001B[39m),\n\u001B[0;32m   1888\u001B[0m     storage_options\u001B[38;5;241m=\u001B[39m\u001B[38;5;28mself\u001B[39m\u001B[38;5;241m.\u001B[39moptions\u001B[38;5;241m.\u001B[39mget(\u001B[38;5;124m\"\u001B[39m\u001B[38;5;124mstorage_options\u001B[39m\u001B[38;5;124m\"\u001B[39m, \u001B[38;5;28;01mNone\u001B[39;00m),\n\u001B[0;32m   1889\u001B[0m )\n\u001B[0;32m   1890\u001B[0m \u001B[38;5;28;01massert\u001B[39;00m \u001B[38;5;28mself\u001B[39m\u001B[38;5;241m.\u001B[39mhandles \u001B[38;5;129;01mis\u001B[39;00m \u001B[38;5;129;01mnot\u001B[39;00m \u001B[38;5;28;01mNone\u001B[39;00m\n\u001B[0;32m   1891\u001B[0m f \u001B[38;5;241m=\u001B[39m \u001B[38;5;28mself\u001B[39m\u001B[38;5;241m.\u001B[39mhandles\u001B[38;5;241m.\u001B[39mhandle\n",
      "File \u001B[1;32m~\\anaconda3\\envs\\ada\\Lib\\site-packages\\pandas\\io\\common.py:873\u001B[0m, in \u001B[0;36mget_handle\u001B[1;34m(path_or_buf, mode, encoding, compression, memory_map, is_text, errors, storage_options)\u001B[0m\n\u001B[0;32m    868\u001B[0m \u001B[38;5;28;01melif\u001B[39;00m \u001B[38;5;28misinstance\u001B[39m(handle, \u001B[38;5;28mstr\u001B[39m):\n\u001B[0;32m    869\u001B[0m     \u001B[38;5;66;03m# Check whether the filename is to be opened in binary mode.\u001B[39;00m\n\u001B[0;32m    870\u001B[0m     \u001B[38;5;66;03m# Binary mode does not support 'encoding' and 'newline'.\u001B[39;00m\n\u001B[0;32m    871\u001B[0m     \u001B[38;5;28;01mif\u001B[39;00m ioargs\u001B[38;5;241m.\u001B[39mencoding \u001B[38;5;129;01mand\u001B[39;00m \u001B[38;5;124m\"\u001B[39m\u001B[38;5;124mb\u001B[39m\u001B[38;5;124m\"\u001B[39m \u001B[38;5;129;01mnot\u001B[39;00m \u001B[38;5;129;01min\u001B[39;00m ioargs\u001B[38;5;241m.\u001B[39mmode:\n\u001B[0;32m    872\u001B[0m         \u001B[38;5;66;03m# Encoding\u001B[39;00m\n\u001B[1;32m--> 873\u001B[0m         handle \u001B[38;5;241m=\u001B[39m \u001B[38;5;28mopen\u001B[39m(\n\u001B[0;32m    874\u001B[0m             handle,\n\u001B[0;32m    875\u001B[0m             ioargs\u001B[38;5;241m.\u001B[39mmode,\n\u001B[0;32m    876\u001B[0m             encoding\u001B[38;5;241m=\u001B[39mioargs\u001B[38;5;241m.\u001B[39mencoding,\n\u001B[0;32m    877\u001B[0m             errors\u001B[38;5;241m=\u001B[39merrors,\n\u001B[0;32m    878\u001B[0m             newline\u001B[38;5;241m=\u001B[39m\u001B[38;5;124m\"\u001B[39m\u001B[38;5;124m\"\u001B[39m,\n\u001B[0;32m    879\u001B[0m         )\n\u001B[0;32m    880\u001B[0m     \u001B[38;5;28;01melse\u001B[39;00m:\n\u001B[0;32m    881\u001B[0m         \u001B[38;5;66;03m# Binary mode\u001B[39;00m\n\u001B[0;32m    882\u001B[0m         handle \u001B[38;5;241m=\u001B[39m \u001B[38;5;28mopen\u001B[39m(handle, ioargs\u001B[38;5;241m.\u001B[39mmode)\n",
      "\u001B[1;31mFileNotFoundError\u001B[0m: [Errno 2] No such file or directory: 'wikispeedia_paths-and-graph/paths_finished.tsv'"
     ]
    }
   ],
   "execution_count": 3
  },
  {
   "cell_type": "code",
   "id": "abe6e749f11ae4b1",
   "metadata": {
    "collapsed": false
   },
   "outputs": [],
   "execution_count": null,
   "source": ""
  },
  {
   "cell_type": "code",
   "id": "aa4d3bd2",
   "metadata": {},
   "source": [
    "# Transform timestamp to datetime\n",
    "finished_paths['timestamp'] =  finished_paths[\"timestamp\"].apply(lambda x: pd.to_datetime(x, unit='s'))\n",
    "\n",
    "# Split the path into a list\n",
    "finished_paths[\"path\"] = finished_paths[\"path\"].apply(lambda x: x.split(\";\"))\n",
    "\n",
    "# Count the number of clicks in each path (including back clicks)\n",
    "finished_paths = finished_paths.assign(nb_clicks=finished_paths[\"path\"].apply(lambda x: len(x)-1)) # -1 because we don't count the source article\n",
    "\n",
    "# Count the number of back clicks in each path\n",
    "finished_paths = finished_paths.assign(nb_back_clicks=finished_paths[\"path\"].apply(lambda x: x.count(\"<\")))\n",
    "\n",
    "# Count the path length (excluding back clicks)\n",
    "finished_paths = finished_paths.assign(path_length=finished_paths[\"nb_clicks\"] - 2 * finished_paths[\"nb_back_clicks\"])\n",
    "\n",
    "# Convert the rating to int\n",
    "finished_paths[\"rating\"] = finished_paths[\"rating\"].astype(int)\n",
    "\n",
    "finished_paths"
   ],
   "outputs": [],
   "execution_count": null
  },
  {
   "cell_type": "code",
   "id": "56e4cc1f",
   "metadata": {},
   "source": [
    "finished_paths.describe()"
   ],
   "outputs": [],
   "execution_count": null
  },
  {
   "cell_type": "code",
   "id": "d08f66c2",
   "metadata": {},
   "source": [
    "duration_mask = finished_paths[\"durationInSec\"] == 0\n",
    "finished_paths[duration_mask]\n",
    "\n",
    "# Gives same result as above\n",
    "length_mask = finished_paths[\"path_length\"] == 0\n",
    "finished_paths[length_mask]"
   ],
   "outputs": [],
   "execution_count": null
  },
  {
   "cell_type": "code",
   "id": "5816893d",
   "metadata": {},
   "source": [
    "# Remove the paths with a duration of 0 (target=source)\n",
    "finished_paths = finished_paths[~duration_mask]\n",
    "finished_paths"
   ],
   "outputs": [],
   "execution_count": null
  },
  {
   "cell_type": "code",
   "id": "cf2df50c",
   "metadata": {},
   "source": [
    "finished_paths[finished_paths[\"path_length\"] == 419]"
   ],
   "outputs": [],
   "execution_count": null
  },
  {
   "cell_type": "code",
   "id": "c5f00ec1",
   "metadata": {},
   "source": [
    "# Compare duration of paths with path length\n",
    "plt.scatter(finished_paths[\"path_length\"], finished_paths[\"durationInSec\"])\n",
    "plt.xlabel(\"Path length\")\n",
    "plt.ylabel(\"Duration (s)\")\n",
    "plt.title(\"Duration of paths compared to path length\")\n",
    "plt.show()"
   ],
   "outputs": [],
   "execution_count": null
  },
  {
   "cell_type": "code",
   "id": "a6ccf51d",
   "metadata": {},
   "source": [
    "mask = finished_paths[\"path_length\"] < 100\n",
    "plt.scatter(finished_paths[mask][\"path_length\"], finished_paths[mask][\"durationInSec\"])\n",
    "plt.xlabel(\"Path length\")\n",
    "plt.ylabel(\"Duration (s)\")\n",
    "plt.title(\"Duration of paths compared to path length (path_length < 100)\")\n",
    "plt.show()"
   ],
   "outputs": [],
   "execution_count": null
  },
  {
   "cell_type": "markdown",
   "id": "cede37ff",
   "metadata": {},
   "source": [
    "## Unfinished Paths"
   ]
  },
  {
   "cell_type": "code",
   "id": "e07b1c8226822b6",
   "metadata": {
    "collapsed": false,
    "ExecuteTime": {
     "end_time": "2024-11-05T11:44:13.998694Z",
     "start_time": "2024-11-05T11:44:13.942125Z"
    }
   },
   "source": [
    "unfinished_paths = pd.read_csv(\"wikispeedia_paths-and-graph/paths_unfinished.tsv\", sep='\\t', header=None)\n",
    "\n",
    "\"\"\"\n",
    "# Unsuccessful (i.e., unfinished) Wikispeedia paths.\n",
    "# Article names are URL-encoded; e.g., in Java they can be decoded using java.net.URLDecoder.decode(articleName, \"UTF-8\").\n",
    "# Articles in a path are separated by \";\".\n",
    "# Back clicks are represented as \"<\".\n",
    "# There are two types of quitting:\n",
    "# (1) \"timeout\" means that no click was made for 30 minutes;\n",
    "# (2) \"restart\" means that the user started a new game without finishing the current one.\n",
    "# FORMAT:   hashedIpAddress   timestamp   durationInSec   path   target   type\n",
    "#\n",
    "# When publishing on this data set, please cite:\n",
    "# (1) Robert West and Jure Leskovec:\n",
    "#     Human Wayfinding in Information Networks.\n",
    "#     21st International World Wide Web Conference (WWW), 2012.\n",
    "# (2) Robert West, Joelle Pineau, and Doina Precup:\n",
    "#     Wikispeedia: An Online Game for Inferring Semantic Distances between Concepts.\n",
    "#     21st International Joint Conference on Artificial Intelligence (IJCAI), 2009.\"\"\"\n",
    "\n",
    "unfinished_paths.columns = [\"hashedIpAddress\", \"timestamp\", \"durationInSec\", \"path\", \"target\", \"type\"]\n",
    "unfinished_paths"
   ],
   "outputs": [],
   "execution_count": null
  },
  {
   "cell_type": "code",
   "id": "a7264d9153764de2",
   "metadata": {
    "collapsed": false,
    "ExecuteTime": {
     "end_time": "2024-11-05T11:44:17.060964Z",
     "start_time": "2024-11-05T11:44:15.992594Z"
    }
   },
   "source": [
    "# Transform timestamp to datetime\n",
    "unfinished_paths['timestamp'] =  unfinished_paths[\"timestamp\"].apply(lambda x: pd.to_datetime(x, unit='s'))\n",
    "\n",
    "# Split the path into a list\n",
    "unfinished_paths[\"path\"] = unfinished_paths[\"path\"].apply(lambda x: x.split(\";\"))\n",
    "\n",
    "# Count the number of clicks in each path (including back clicks)\n",
    "unfinished_paths[\"nb_clicks\"] = unfinished_paths[\"path\"].apply(lambda x: len(x) - 1) # -1 because we don't count the source article\n",
    "\n",
    "# Count the number of back clicks in each path\n",
    "unfinished_paths[\"nb_back_clicks\"] = unfinished_paths[\"path\"].apply(lambda x: x.count(\"<\"))\n",
    "\n",
    "# Count the path length (excluding back clicks)\n",
    "unfinished_paths[\"path_length\"] = unfinished_paths[\"nb_clicks\"] - unfinished_paths[\"nb_back_clicks\"]\n",
    "\n",
    "# Create a column containing the play duration\n",
    "unfinished_paths[\"play_duration\"] = unfinished_paths[\"durationInSec\"]\n",
    "\n",
    "# Remove 1800 seconds from the play duration if the type is timeout and assign the result to the play duration\n",
    "unfinished_paths.loc[unfinished_paths[\"type\"] == \"timeout\", \"play_duration\"] = unfinished_paths.loc[unfinished_paths[\"type\"] == \"timeout\", \"play_duration\"].apply(lambda x: max(x - 1800, 0)) # ensures that the play duration is not negative"
   ],
   "outputs": [],
   "execution_count": null
  },
  {
   "cell_type": "code",
   "id": "8c79f199fd3de597",
   "metadata": {
    "collapsed": false,
    "ExecuteTime": {
     "end_time": "2024-11-05T11:44:18.514102Z",
     "start_time": "2024-11-05T11:44:17.197277Z"
    }
   },
   "source": [
    "unfinished_paths.plot.hist(y=\"play_duration\", bins=100, title=\"Distribution of play duration of unfinished paths\", xlabel=\"Duration in seconds\", ylabel=\"Number of paths\", log=True)\n",
    "plt.show()\n",
    "finished_paths.plot.hist(y=\"durationInSec\", bins=100, title=\"Distribution of duration of finished paths\", xlabel=\"Duration in seconds\", ylabel=\"Number of paths\", log=True)\n",
    "plt.show()"
   ],
   "outputs": [],
   "execution_count": null
  },
  {
   "cell_type": "markdown",
   "id": "5e604c27",
   "metadata": {},
   "source": [
    "## Categories"
   ]
  },
  {
   "cell_type": "code",
   "id": "56c0d148ada1c5d1",
   "metadata": {
    "collapsed": false,
    "ExecuteTime": {
     "end_time": "2024-11-05T11:44:20.234808Z",
     "start_time": "2024-11-05T11:44:20.004930Z"
    }
   },
   "source": [
    "\"\"\"\n",
    "# Hierarchical categories of all articles.\n",
    "# Many articles have more than one category. Some articles have no category.\n",
    "# Article names are URL-encoded; e.g., in Java they can be decoded using java.net.URLDecoder.decode(articleName, \"UTF-8\").\n",
    "# FORMAT:   article   category\n",
    "#\n",
    "# When publishing on this data set, please cite:\n",
    "# (1) Robert West and Jure Leskovec:\n",
    "#     Human Wayfinding in Information Networks.\n",
    "#     21st International World Wide Web Conference (WWW), 2012.\n",
    "# (2) Robert West, Joelle Pineau, and Doina Precup:\n",
    "#     Wikispeedia: An Online Game for Inferring Semantic Distances between Concepts.\n",
    "#     21st International Joint Conference on Artificial Intelligence (IJCAI), 2009.\"\"\"\n",
    "\n",
    "categories = pd.read_csv(\"wikispeedia_paths-and-graph/wikispeedia_paths-and-graph/categories.tsv\", sep='\\t', header=None)\n",
    "categories.columns = [\"article\", \"category\"]\n",
    "categories[\"category\"] = categories[\"category\"].apply(lambda x: x.split(\".\")[1:])\n",
    "categories"
   ],
   "outputs": [],
   "execution_count": null
  },
  {
   "cell_type": "code",
   "source": [],
   "metadata": {
    "collapsed": false
   },
   "id": "999ad99c4e0e2e3a",
   "outputs": [],
   "execution_count": null
  },
  {
   "cell_type": "code",
   "id": "41a749fc12e67f92",
   "metadata": {
    "collapsed": false,
    "ExecuteTime": {
     "end_time": "2024-11-05T11:44:22.057493Z",
     "start_time": "2024-11-05T11:44:22.043718Z"
    }
   },
   "source": [
    "def compare_categories(category1, category2):\n",
    "    return len(set(category1).intersection(set(category2)))"
   ],
   "outputs": [],
   "execution_count": null
  },
  {
   "cell_type": "code",
   "id": "d24be624da729646",
   "metadata": {
    "collapsed": false,
    "ExecuteTime": {
     "end_time": "2024-11-05T11:44:23.158209Z",
     "start_time": "2024-11-05T11:44:23.116187Z"
    }
   },
   "source": [
    "# Get source and target articles for each path\n",
    "unfinished_paths[\"source\"] = unfinished_paths[\"path\"].apply(lambda x: x[0])\n",
    "finished_paths[\"source\"] = finished_paths[\"path\"].apply(lambda x: x[0])\n",
    "finished_paths[\"target\"] = finished_paths[\"path\"].apply(lambda x: x[-1])"
   ],
   "outputs": [],
   "execution_count": null
  },
  {
   "cell_type": "code",
   "id": "1a317eff8e944b51",
   "metadata": {
    "collapsed": false,
    "ExecuteTime": {
     "end_time": "2024-11-05T11:44:24.160419Z",
     "start_time": "2024-11-05T11:44:23.981233Z"
    }
   },
   "source": [
    "# Get the categories of the source and target articles for each path\n",
    "unfinished_paths = unfinished_paths.merge(categories, left_on=\"source\", right_on=\"article\").rename(columns={\"category\": \"source_category\"})\n",
    "unfinished_paths = unfinished_paths.merge(categories, left_on=\"target\", right_on=\"article\").rename(columns={\"category\": \"target_category\"})\n",
    "finished_paths = finished_paths.merge(categories, left_on=\"source\", right_on=\"article\").rename(columns={\"category\": \"source_category\"})\n",
    "finished_paths = finished_paths.merge(categories, left_on=\"target\", right_on=\"article\").rename(columns={\"category\": \"target_category\"})\n",
    "unfinished_paths.drop(columns=[\"article_x\", \"article_y\"], inplace=True)\n",
    "finished_paths.drop(columns=[\"article_x\", \"article_y\"], inplace=True)"
   ],
   "outputs": [],
   "execution_count": null
  },
  {
   "cell_type": "code",
   "id": "b0db25ef58f0632a",
   "metadata": {
    "collapsed": false,
    "ExecuteTime": {
     "end_time": "2024-11-05T11:44:24.933875Z",
     "start_time": "2024-11-05T11:44:24.894318Z"
    }
   },
   "source": [
    "unfinished_paths"
   ],
   "outputs": [],
   "execution_count": null
  },
  {
   "cell_type": "code",
   "id": "d650f927cd0c5450",
   "metadata": {
    "collapsed": false,
    "ExecuteTime": {
     "end_time": "2024-11-05T11:44:25.891169Z",
     "start_time": "2024-11-05T11:44:25.853565Z"
    }
   },
   "source": [
    "finished_paths"
   ],
   "outputs": [],
   "execution_count": null
  },
  {
   "cell_type": "code",
   "source": [
    "unfinished_paths[\"source_general_category\"] = unfinished_paths[\"source_category\"].apply(lambda x: x[0])\n",
    "unfinished_paths[\"target_general_category\"] = unfinished_paths[\"target_category\"].apply(lambda x: x[0])\n",
    "finished_paths[\"source_general_category\"] = finished_paths[\"source_category\"].apply(lambda x: x[0])\n",
    "finished_paths[\"target_general_category\"] = finished_paths[\"target_category\"].apply(lambda x: x[0])"
   ],
   "metadata": {
    "collapsed": false,
    "ExecuteTime": {
     "end_time": "2024-11-05T11:44:26.755280Z",
     "start_time": "2024-11-05T11:44:26.714586Z"
    }
   },
   "id": "d7b463e05ebd3c66",
   "outputs": [],
   "execution_count": null
  },
  {
   "cell_type": "code",
   "source": [
    "categories.to_csv(\"clean_categories.csv\", index=False)\n",
    "finished_paths.to_csv(\"clean_finished_paths.csv\", index=False)\n",
    "unfinished_paths.to_csv(\"clean_unfinished_paths.csv\", index=False)"
   ],
   "metadata": {
    "collapsed": false,
    "ExecuteTime": {
     "end_time": "2024-11-05T11:44:29.755225Z",
     "start_time": "2024-11-05T11:44:28.561868Z"
    }
   },
   "id": "2932dcc406aebfbf",
   "outputs": [],
   "execution_count": null
  },
  {
   "cell_type": "code",
   "source": [
    "finished_grouped_by_categories = finished_paths[[\"source_general_category\", \"target_general_category\", \"nb_clicks\"]].groupby([\"source_general_category\", \"target_general_category\"]).agg({\"nb_clicks\": \"mean\"}).reset_index()\n",
    "finished_grouped_by_categories"
   ],
   "metadata": {
    "collapsed": false,
    "ExecuteTime": {
     "end_time": "2024-11-05T11:44:31.493088Z",
     "start_time": "2024-11-05T11:44:31.461226Z"
    }
   },
   "id": "325447e4c1f43eea",
   "outputs": [],
   "execution_count": null
  },
  {
   "cell_type": "code",
   "source": [
    "unfinished_grouped_by_categories = unfinished_paths[[\"source_general_category\", \"target_general_category\", \"nb_clicks\"]].groupby([\"source_general_category\", \"target_general_category\"]).agg({\"nb_clicks\": \"median\"}).reset_index()\n",
    "unfinished_grouped_by_categories"
   ],
   "metadata": {
    "collapsed": false,
    "ExecuteTime": {
     "end_time": "2024-11-05T11:44:32.658962Z",
     "start_time": "2024-11-05T11:44:32.618578Z"
    }
   },
   "id": "87ab6b00a10eaba8",
   "outputs": [],
   "execution_count": null
  },
  {
   "cell_type": "code",
   "source": [
    "# Plot the average number of clicks from a source category to a target category\n",
    "import seaborn as sns\n",
    "finished_matrix = finished_grouped_by_categories.pivot(index=\"source_general_category\", columns=\"target_general_category\", values=\"nb_clicks\")\n",
    "finished_matrix = finished_matrix.reindex(finished_matrix.sum().sort_values(ascending=False).index, axis=1)\n",
    "sns.heatmap(finished_matrix, cmap=\"YlGnBu\")\n",
    "plt.show()\n"
   ],
   "metadata": {
    "collapsed": false,
    "ExecuteTime": {
     "end_time": "2024-11-05T11:50:30.913163Z",
     "start_time": "2024-11-05T11:50:30.620680Z"
    }
   },
   "id": "57d122b57b34ca5c",
   "outputs": [],
   "execution_count": null
  },
  {
   "cell_type": "code",
   "source": [
    "\n",
    "unfinished_matrix = unfinished_grouped_by_categories.pivot(index=\"source_general_category\", columns=\"target_general_category\", values=\"nb_clicks\")\n",
    "#order by the categories with the most paths\n",
    "unfinished_matrix = unfinished_matrix.reindex(unfinished_matrix.sum().sort_values(ascending=False).index, axis=1)\n",
    "sns.heatmap(unfinished_matrix, cmap=\"YlGnBu\")\n",
    "plt.show()"
   ],
   "metadata": {
    "collapsed": false,
    "ExecuteTime": {
     "end_time": "2024-11-05T11:50:34.626128Z",
     "start_time": "2024-11-05T11:50:33.904867Z"
    }
   },
   "id": "c18d5e5b9abaf7a",
   "outputs": [],
   "execution_count": null
  },
  {
   "cell_type": "code",
   "source": [
    "target_categories_distribution = finished_paths[\"target_general_category\"].value_counts()\n",
    "target_categories_distribution.plot.bar()"
   ],
   "metadata": {
    "collapsed": false,
    "ExecuteTime": {
     "end_time": "2024-11-05T11:50:35.592284Z",
     "start_time": "2024-11-05T11:50:35.374058Z"
    }
   },
   "id": "d037a74c06f3c5a5",
   "outputs": [],
   "execution_count": null
  },
  {
   "cell_type": "code",
   "source": [
    "unfinished_target_categories_distribution = unfinished_paths[\"target_general_category\"].value_counts()\n",
    "unfinished_target_categories_distribution.plot.bar()"
   ],
   "metadata": {
    "collapsed": false
   },
   "id": "33cf57fbd3ce349c",
   "outputs": [],
   "execution_count": null
  }
 ],
 "metadata": {
  "kernelspec": {
   "display_name": "ada",
   "language": "python",
   "name": "python3"
  },
  "language_info": {
   "codemirror_mode": {
    "name": "ipython",
    "version": 3
   },
   "file_extension": ".py",
   "mimetype": "text/x-python",
   "name": "python",
   "nbconvert_exporter": "python",
   "pygments_lexer": "ipython3",
   "version": "3.11.10"
  }
 },
 "nbformat": 4,
 "nbformat_minor": 5
}

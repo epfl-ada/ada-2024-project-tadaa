{
 "cells": [
  {
   "cell_type": "code",
   "execution_count": 1,
   "id": "initial_id",
   "metadata": {
    "collapsed": true,
    "ExecuteTime": {
     "end_time": "2024-10-29T17:16:32.221798Z",
     "start_time": "2024-10-29T17:16:31.298473Z"
    }
   },
   "outputs": [],
   "source": [
    "import matplotlib.pyplot as plt\n",
    "import pandas as pd"
   ]
  },
  {
   "cell_type": "code",
   "outputs": [
    {
     "data": {
      "text/plain": "        hashedIpAddress   timestamp  durationInSec  \\\n0      6a3701d319fc3754  1297740409            166   \n1      3824310e536af032  1344753412             88   \n2      415612e93584d30e  1349298640            138   \n3      64dd5cd342e3780c  1265613925             37   \n4      015245d773376aab  1366730828            175   \n...                 ...         ...            ...   \n51313  15a13a1d66ef5456  1349231015             66   \n51314  2ef7ac844cefda58  1300254138            165   \n51315  12863abb7887f890  1385095372            228   \n51316  19f8284371753362  1298792567             56   \n51317  24b84602179de377  1318122701             30   \n\n                                                    path  rating  \n0      14th_century;15th_century;16th_century;Pacific...     NaN  \n1      14th_century;Europe;Africa;Atlantic_slave_trad...     3.0  \n2      14th_century;Niger;Nigeria;British_Empire;Slav...     NaN  \n3         14th_century;Renaissance;Ancient_Greece;Greece     NaN  \n4      14th_century;Italy;Roman_Catholic_Church;HIV;R...     3.0  \n...                                                  ...     ...  \n51313                   Yagan;Ancient_Egypt;Civilization     NaN  \n51314  Yagan;Folklore;Brothers_Grimm;<;19th_century;C...     3.0  \n51315  Yagan;Australia;England;France;United_States;T...     NaN  \n51316  Yarralumla%2C_Australian_Capital_Territory;Aus...     1.0  \n51317                            Ziad_Jarrah;Germany;Jew     NaN  \n\n[51318 rows x 5 columns]",
      "text/html": "<div>\n<style scoped>\n    .dataframe tbody tr th:only-of-type {\n        vertical-align: middle;\n    }\n\n    .dataframe tbody tr th {\n        vertical-align: top;\n    }\n\n    .dataframe thead th {\n        text-align: right;\n    }\n</style>\n<table border=\"1\" class=\"dataframe\">\n  <thead>\n    <tr style=\"text-align: right;\">\n      <th></th>\n      <th>hashedIpAddress</th>\n      <th>timestamp</th>\n      <th>durationInSec</th>\n      <th>path</th>\n      <th>rating</th>\n    </tr>\n  </thead>\n  <tbody>\n    <tr>\n      <th>0</th>\n      <td>6a3701d319fc3754</td>\n      <td>1297740409</td>\n      <td>166</td>\n      <td>14th_century;15th_century;16th_century;Pacific...</td>\n      <td>NaN</td>\n    </tr>\n    <tr>\n      <th>1</th>\n      <td>3824310e536af032</td>\n      <td>1344753412</td>\n      <td>88</td>\n      <td>14th_century;Europe;Africa;Atlantic_slave_trad...</td>\n      <td>3.0</td>\n    </tr>\n    <tr>\n      <th>2</th>\n      <td>415612e93584d30e</td>\n      <td>1349298640</td>\n      <td>138</td>\n      <td>14th_century;Niger;Nigeria;British_Empire;Slav...</td>\n      <td>NaN</td>\n    </tr>\n    <tr>\n      <th>3</th>\n      <td>64dd5cd342e3780c</td>\n      <td>1265613925</td>\n      <td>37</td>\n      <td>14th_century;Renaissance;Ancient_Greece;Greece</td>\n      <td>NaN</td>\n    </tr>\n    <tr>\n      <th>4</th>\n      <td>015245d773376aab</td>\n      <td>1366730828</td>\n      <td>175</td>\n      <td>14th_century;Italy;Roman_Catholic_Church;HIV;R...</td>\n      <td>3.0</td>\n    </tr>\n    <tr>\n      <th>...</th>\n      <td>...</td>\n      <td>...</td>\n      <td>...</td>\n      <td>...</td>\n      <td>...</td>\n    </tr>\n    <tr>\n      <th>51313</th>\n      <td>15a13a1d66ef5456</td>\n      <td>1349231015</td>\n      <td>66</td>\n      <td>Yagan;Ancient_Egypt;Civilization</td>\n      <td>NaN</td>\n    </tr>\n    <tr>\n      <th>51314</th>\n      <td>2ef7ac844cefda58</td>\n      <td>1300254138</td>\n      <td>165</td>\n      <td>Yagan;Folklore;Brothers_Grimm;&lt;;19th_century;C...</td>\n      <td>3.0</td>\n    </tr>\n    <tr>\n      <th>51315</th>\n      <td>12863abb7887f890</td>\n      <td>1385095372</td>\n      <td>228</td>\n      <td>Yagan;Australia;England;France;United_States;T...</td>\n      <td>NaN</td>\n    </tr>\n    <tr>\n      <th>51316</th>\n      <td>19f8284371753362</td>\n      <td>1298792567</td>\n      <td>56</td>\n      <td>Yarralumla%2C_Australian_Capital_Territory;Aus...</td>\n      <td>1.0</td>\n    </tr>\n    <tr>\n      <th>51317</th>\n      <td>24b84602179de377</td>\n      <td>1318122701</td>\n      <td>30</td>\n      <td>Ziad_Jarrah;Germany;Jew</td>\n      <td>NaN</td>\n    </tr>\n  </tbody>\n</table>\n<p>51318 rows × 5 columns</p>\n</div>"
     },
     "execution_count": 2,
     "metadata": {},
     "output_type": "execute_result"
    }
   ],
   "source": [
    "# Load the finished_paths from tsv file\n",
    "file = \"../wikispeedia_paths-and-graph/wikispeedia_paths-and-graph/paths_finished.tsv\"\n",
    "\"\"\"\n",
    "# Successful (i.e., finished) Wikispeedia paths.\n",
    "# Article names are URL-encoded; e.g., in Java they can be decoded using java.net.URLDecoder.decode(articleName, \"UTF-8\").\n",
    "# Articles in a path are separated by \";\".\n",
    "# Back clicks are represented as \"<\".\n",
    "# Ratings are optionally given by the user after finishing the game and range from 1 (\"easy\") to 5 (\"brutal\").\n",
    "# Missing ratings are represented as \"NULL\".\n",
    "# FORMAT:   hashedIpAddress   timestamp   durationInSec   path   rating\n",
    "#\n",
    "# When publishing on this data set, please cite:\n",
    "# (1) Robert West and Jure Leskovec:\n",
    "#     Human Wayfinding in Information Networks.\n",
    "#     21st International World Wide Web Conference (WWW), 2012.\n",
    "# (2) Robert West, Joelle Pineau, and Doina Precup:\n",
    "#     Wikispeedia: An Online Game for Inferring Semantic Distances between Concepts.\n",
    "#     21st International Joint Conference on Artificial Intelligence (IJCAI), 2009.\n",
    "\"\"\"\n",
    "finished_paths = pd.read_csv(file, sep='\\t', header=None)\n",
    "finished_paths.columns = [\"hashedIpAddress\", \"timestamp\", \"durationInSec\", \"path\", \"rating\"]\n",
    "finished_paths"
   ],
   "metadata": {
    "collapsed": false,
    "ExecuteTime": {
     "end_time": "2024-10-29T17:16:37.030528Z",
     "start_time": "2024-10-29T17:16:36.949729Z"
    }
   },
   "id": "75e680621095806b",
   "execution_count": 2
  },
  {
   "cell_type": "code",
   "outputs": [
    {
     "data": {
      "text/plain": "        hashedIpAddress   timestamp  durationInSec  \\\n0      6a3701d319fc3754  1297740409            166   \n1      3824310e536af032  1344753412             88   \n2      415612e93584d30e  1349298640            138   \n3      64dd5cd342e3780c  1265613925             37   \n4      015245d773376aab  1366730828            175   \n...                 ...         ...            ...   \n51313  15a13a1d66ef5456  1349231015             66   \n51314  2ef7ac844cefda58  1300254138            165   \n51315  12863abb7887f890  1385095372            228   \n51316  19f8284371753362  1298792567             56   \n51317  24b84602179de377  1318122701             30   \n\n                                                    path  rating  \n0      14th_century;15th_century;16th_century;Pacific...    -1.0  \n1      14th_century;Europe;Africa;Atlantic_slave_trad...     3.0  \n2      14th_century;Niger;Nigeria;British_Empire;Slav...    -1.0  \n3         14th_century;Renaissance;Ancient_Greece;Greece    -1.0  \n4      14th_century;Italy;Roman_Catholic_Church;HIV;R...     3.0  \n...                                                  ...     ...  \n51313                   Yagan;Ancient_Egypt;Civilization    -1.0  \n51314  Yagan;Folklore;Brothers_Grimm;<;19th_century;C...     3.0  \n51315  Yagan;Australia;England;France;United_States;T...    -1.0  \n51316  Yarralumla%2C_Australian_Capital_Territory;Aus...     1.0  \n51317                            Ziad_Jarrah;Germany;Jew    -1.0  \n\n[51315 rows x 5 columns]",
      "text/html": "<div>\n<style scoped>\n    .dataframe tbody tr th:only-of-type {\n        vertical-align: middle;\n    }\n\n    .dataframe tbody tr th {\n        vertical-align: top;\n    }\n\n    .dataframe thead th {\n        text-align: right;\n    }\n</style>\n<table border=\"1\" class=\"dataframe\">\n  <thead>\n    <tr style=\"text-align: right;\">\n      <th></th>\n      <th>hashedIpAddress</th>\n      <th>timestamp</th>\n      <th>durationInSec</th>\n      <th>path</th>\n      <th>rating</th>\n    </tr>\n  </thead>\n  <tbody>\n    <tr>\n      <th>0</th>\n      <td>6a3701d319fc3754</td>\n      <td>1297740409</td>\n      <td>166</td>\n      <td>14th_century;15th_century;16th_century;Pacific...</td>\n      <td>-1.0</td>\n    </tr>\n    <tr>\n      <th>1</th>\n      <td>3824310e536af032</td>\n      <td>1344753412</td>\n      <td>88</td>\n      <td>14th_century;Europe;Africa;Atlantic_slave_trad...</td>\n      <td>3.0</td>\n    </tr>\n    <tr>\n      <th>2</th>\n      <td>415612e93584d30e</td>\n      <td>1349298640</td>\n      <td>138</td>\n      <td>14th_century;Niger;Nigeria;British_Empire;Slav...</td>\n      <td>-1.0</td>\n    </tr>\n    <tr>\n      <th>3</th>\n      <td>64dd5cd342e3780c</td>\n      <td>1265613925</td>\n      <td>37</td>\n      <td>14th_century;Renaissance;Ancient_Greece;Greece</td>\n      <td>-1.0</td>\n    </tr>\n    <tr>\n      <th>4</th>\n      <td>015245d773376aab</td>\n      <td>1366730828</td>\n      <td>175</td>\n      <td>14th_century;Italy;Roman_Catholic_Church;HIV;R...</td>\n      <td>3.0</td>\n    </tr>\n    <tr>\n      <th>...</th>\n      <td>...</td>\n      <td>...</td>\n      <td>...</td>\n      <td>...</td>\n      <td>...</td>\n    </tr>\n    <tr>\n      <th>51313</th>\n      <td>15a13a1d66ef5456</td>\n      <td>1349231015</td>\n      <td>66</td>\n      <td>Yagan;Ancient_Egypt;Civilization</td>\n      <td>-1.0</td>\n    </tr>\n    <tr>\n      <th>51314</th>\n      <td>2ef7ac844cefda58</td>\n      <td>1300254138</td>\n      <td>165</td>\n      <td>Yagan;Folklore;Brothers_Grimm;&lt;;19th_century;C...</td>\n      <td>3.0</td>\n    </tr>\n    <tr>\n      <th>51315</th>\n      <td>12863abb7887f890</td>\n      <td>1385095372</td>\n      <td>228</td>\n      <td>Yagan;Australia;England;France;United_States;T...</td>\n      <td>-1.0</td>\n    </tr>\n    <tr>\n      <th>51316</th>\n      <td>19f8284371753362</td>\n      <td>1298792567</td>\n      <td>56</td>\n      <td>Yarralumla%2C_Australian_Capital_Territory;Aus...</td>\n      <td>1.0</td>\n    </tr>\n    <tr>\n      <th>51317</th>\n      <td>24b84602179de377</td>\n      <td>1318122701</td>\n      <td>30</td>\n      <td>Ziad_Jarrah;Germany;Jew</td>\n      <td>-1.0</td>\n    </tr>\n  </tbody>\n</table>\n<p>51315 rows × 5 columns</p>\n</div>"
     },
     "execution_count": 3,
     "metadata": {},
     "output_type": "execute_result"
    }
   ],
   "source": [
    "finished_paths[\"rating\"] = finished_paths[\"rating\"].fillna(-1)\n",
    "finished_paths = finished_paths.dropna()\n",
    "finished_paths"
   ],
   "metadata": {
    "collapsed": false,
    "ExecuteTime": {
     "end_time": "2024-10-29T17:16:38.031431Z",
     "start_time": "2024-10-29T17:16:38.011842Z"
    }
   },
   "id": "d6dde27860d265de",
   "execution_count": 3
  },
  {
   "cell_type": "code",
   "outputs": [
    {
     "data": {
      "text/plain": "0       2011-02-15 03:26:49\n1       2012-08-12 06:36:52\n2       2012-10-03 21:10:40\n3       2010-02-08 07:25:25\n4       2013-04-23 15:27:08\n                ...        \n51313   2012-10-03 02:23:35\n51314   2011-03-16 05:42:18\n51315   2013-11-22 04:42:52\n51316   2011-02-27 07:42:47\n51317   2011-10-09 01:11:41\nName: timestamp, Length: 51315, dtype: datetime64[ns]"
     },
     "execution_count": 4,
     "metadata": {},
     "output_type": "execute_result"
    }
   ],
   "source": [
    "#transform timestamp to datetime\n",
    "finished_paths[\"timestamp\"].apply(lambda x: pd.to_datetime(x, unit='s'))"
   ],
   "metadata": {
    "collapsed": false,
    "ExecuteTime": {
     "end_time": "2024-10-29T17:16:42.073902Z",
     "start_time": "2024-10-29T17:16:38.513004Z"
    }
   },
   "id": "9e5f64d8dae627e5",
   "execution_count": 4
  },
  {
   "cell_type": "code",
   "outputs": [],
   "source": [
    "# count the number of steps\n",
    "finished_paths = finished_paths.assign(nb_steps=finished_paths[\"path\"].apply(lambda x: len(x.split(\";\"))+1))"
   ],
   "metadata": {
    "collapsed": false,
    "ExecuteTime": {
     "end_time": "2024-10-29T17:16:42.146095Z",
     "start_time": "2024-10-29T17:16:42.079015Z"
    }
   },
   "id": "8ba9df5528a1f36d",
   "execution_count": 5
  },
  {
   "cell_type": "code",
   "outputs": [],
   "source": [
    "finished_paths[\"rating\"] = finished_paths[\"rating\"].astype(int)"
   ],
   "metadata": {
    "collapsed": false,
    "ExecuteTime": {
     "end_time": "2024-10-29T17:16:43.102809Z",
     "start_time": "2024-10-29T17:16:43.093778Z"
    }
   },
   "id": "d7a4d0e0bfbefdc8",
   "execution_count": 6
  },
  {
   "cell_type": "code",
   "outputs": [
    {
     "data": {
      "text/plain": "        hashedIpAddress   timestamp  durationInSec  \\\n0      6a3701d319fc3754  1297740409            166   \n1      3824310e536af032  1344753412             88   \n2      415612e93584d30e  1349298640            138   \n3      64dd5cd342e3780c  1265613925             37   \n4      015245d773376aab  1366730828            175   \n...                 ...         ...            ...   \n51313  15a13a1d66ef5456  1349231015             66   \n51314  2ef7ac844cefda58  1300254138            165   \n51315  12863abb7887f890  1385095372            228   \n51316  19f8284371753362  1298792567             56   \n51317  24b84602179de377  1318122701             30   \n\n                                                    path  rating  nb_steps  \n0      [14th_century, 15th_century, 16th_century, Pac...      -1        10  \n1      [14th_century, Europe, Africa, Atlantic_slave_...       3         6  \n2      [14th_century, Niger, Nigeria, British_Empire,...      -1         9  \n3      [14th_century, Renaissance, Ancient_Greece, Gr...      -1         5  \n4      [14th_century, Italy, Roman_Catholic_Church, H...       3         8  \n...                                                  ...     ...       ...  \n51313               [Yagan, Ancient_Egypt, Civilization]      -1         4  \n51314  [Yagan, Folklore, Brothers_Grimm, <, 19th_cent...       3        10  \n51315  [Yagan, Australia, England, France, United_Sta...      -1         8  \n51316  [Yarralumla%2C_Australian_Capital_Territory, A...       1         5  \n51317                        [Ziad_Jarrah, Germany, Jew]      -1         4  \n\n[51315 rows x 6 columns]",
      "text/html": "<div>\n<style scoped>\n    .dataframe tbody tr th:only-of-type {\n        vertical-align: middle;\n    }\n\n    .dataframe tbody tr th {\n        vertical-align: top;\n    }\n\n    .dataframe thead th {\n        text-align: right;\n    }\n</style>\n<table border=\"1\" class=\"dataframe\">\n  <thead>\n    <tr style=\"text-align: right;\">\n      <th></th>\n      <th>hashedIpAddress</th>\n      <th>timestamp</th>\n      <th>durationInSec</th>\n      <th>path</th>\n      <th>rating</th>\n      <th>nb_steps</th>\n    </tr>\n  </thead>\n  <tbody>\n    <tr>\n      <th>0</th>\n      <td>6a3701d319fc3754</td>\n      <td>1297740409</td>\n      <td>166</td>\n      <td>[14th_century, 15th_century, 16th_century, Pac...</td>\n      <td>-1</td>\n      <td>10</td>\n    </tr>\n    <tr>\n      <th>1</th>\n      <td>3824310e536af032</td>\n      <td>1344753412</td>\n      <td>88</td>\n      <td>[14th_century, Europe, Africa, Atlantic_slave_...</td>\n      <td>3</td>\n      <td>6</td>\n    </tr>\n    <tr>\n      <th>2</th>\n      <td>415612e93584d30e</td>\n      <td>1349298640</td>\n      <td>138</td>\n      <td>[14th_century, Niger, Nigeria, British_Empire,...</td>\n      <td>-1</td>\n      <td>9</td>\n    </tr>\n    <tr>\n      <th>3</th>\n      <td>64dd5cd342e3780c</td>\n      <td>1265613925</td>\n      <td>37</td>\n      <td>[14th_century, Renaissance, Ancient_Greece, Gr...</td>\n      <td>-1</td>\n      <td>5</td>\n    </tr>\n    <tr>\n      <th>4</th>\n      <td>015245d773376aab</td>\n      <td>1366730828</td>\n      <td>175</td>\n      <td>[14th_century, Italy, Roman_Catholic_Church, H...</td>\n      <td>3</td>\n      <td>8</td>\n    </tr>\n    <tr>\n      <th>...</th>\n      <td>...</td>\n      <td>...</td>\n      <td>...</td>\n      <td>...</td>\n      <td>...</td>\n      <td>...</td>\n    </tr>\n    <tr>\n      <th>51313</th>\n      <td>15a13a1d66ef5456</td>\n      <td>1349231015</td>\n      <td>66</td>\n      <td>[Yagan, Ancient_Egypt, Civilization]</td>\n      <td>-1</td>\n      <td>4</td>\n    </tr>\n    <tr>\n      <th>51314</th>\n      <td>2ef7ac844cefda58</td>\n      <td>1300254138</td>\n      <td>165</td>\n      <td>[Yagan, Folklore, Brothers_Grimm, &lt;, 19th_cent...</td>\n      <td>3</td>\n      <td>10</td>\n    </tr>\n    <tr>\n      <th>51315</th>\n      <td>12863abb7887f890</td>\n      <td>1385095372</td>\n      <td>228</td>\n      <td>[Yagan, Australia, England, France, United_Sta...</td>\n      <td>-1</td>\n      <td>8</td>\n    </tr>\n    <tr>\n      <th>51316</th>\n      <td>19f8284371753362</td>\n      <td>1298792567</td>\n      <td>56</td>\n      <td>[Yarralumla%2C_Australian_Capital_Territory, A...</td>\n      <td>1</td>\n      <td>5</td>\n    </tr>\n    <tr>\n      <th>51317</th>\n      <td>24b84602179de377</td>\n      <td>1318122701</td>\n      <td>30</td>\n      <td>[Ziad_Jarrah, Germany, Jew]</td>\n      <td>-1</td>\n      <td>4</td>\n    </tr>\n  </tbody>\n</table>\n<p>51315 rows × 6 columns</p>\n</div>"
     },
     "execution_count": 7,
     "metadata": {},
     "output_type": "execute_result"
    }
   ],
   "source": [
    "finished_paths[\"path\"] = finished_paths[\"path\"].apply(lambda x: x.split(\";\"))\n",
    "finished_paths"
   ],
   "metadata": {
    "collapsed": false,
    "ExecuteTime": {
     "end_time": "2024-10-29T17:16:43.782254Z",
     "start_time": "2024-10-29T17:16:43.691765Z"
    }
   },
   "id": "304b01be25f5b078",
   "execution_count": 7
  },
  {
   "cell_type": "code",
   "outputs": [],
   "source": [
    "unfinished_paths = pd.read_csv(\"../wikispeedia_paths-and-graph/wikispeedia_paths-and-graph/paths_unfinished.tsv\", sep='\\t', header=None)\n",
    "\n",
    "\"\"\"\n",
    "# Unsuccessful (i.e., unfinished) Wikispeedia paths.\n",
    "# Article names are URL-encoded; e.g., in Java they can be decoded using java.net.URLDecoder.decode(articleName, \"UTF-8\").\n",
    "# Articles in a path are separated by \";\".\n",
    "# Back clicks are represented as \"<\".\n",
    "# There are two types of quitting:\n",
    "# (1) \"timeout\" means that no click was made for 30 minutes;\n",
    "# (2) \"restart\" means that the user started a new game without finishing the current one.\n",
    "# FORMAT:   hashedIpAddress   timestamp   durationInSec   path   target   type\n",
    "#\n",
    "# When publishing on this data set, please cite:\n",
    "# (1) Robert West and Jure Leskovec:\n",
    "#     Human Wayfinding in Information Networks.\n",
    "#     21st International World Wide Web Conference (WWW), 2012.\n",
    "# (2) Robert West, Joelle Pineau, and Doina Precup:\n",
    "#     Wikispeedia: An Online Game for Inferring Semantic Distances between Concepts.\n",
    "#     21st International Joint Conference on Artificial Intelligence (IJCAI), 2009.\"\"\"\n",
    "\n",
    "unfinished_paths.columns = [\"hashedIpAddress\", \"timestamp\", \"durationInSec\", \"path\", \"target\", \"type\"]\n",
    "unfinished_paths"
   ],
   "metadata": {
    "collapsed": false,
    "is_executing": true
   },
   "id": "e07b1c8226822b6",
   "execution_count": null
  },
  {
   "cell_type": "code",
   "outputs": [],
   "source": [
    "unfinished_paths[\"nb_steps\"] = unfinished_paths[\"path\"].apply(lambda x: len(x.split(\";\")) + 1)\n",
    "unfinished_paths[\"play_duration\"] = unfinished_paths[\"durationInSec\"]\n",
    "#remove 1800 seconds from the play duration if the type is timeout\n",
    "unfinished_paths.loc[unfinished_paths[\"type\"] == \"timeout\", \"play_duration\"].apply(lambda x: max(x - 1800, 0))\n",
    "unfinished_paths[\"path\"] = unfinished_paths[\"path\"].apply(lambda x: x.split(\";\"))\n",
    "import matplotlib.pyplot as plt\n",
    "unfinished_paths.plot.hist(y=\"play_duration\", bins=100, title=\"Distribution of play duration of unfinised paths\", xlabel=\"Duration in seconds\", ylabel=\"Number of paths\", log=True)\n",
    "plt.show()\n",
    "finished_paths.plot.hist(y=\"durationInSec\", bins=100, title=\"Distribution of duration of finised paths\", xlabel=\"Duration in seconds\", ylabel=\"Number of paths\", log=True)\n"
   ],
   "metadata": {
    "collapsed": false,
    "is_executing": true
   },
   "id": "a7264d9153764de2",
   "execution_count": null
  },
  {
   "cell_type": "code",
   "outputs": [],
   "source": [
    "unfinished_paths"
   ],
   "metadata": {
    "collapsed": false,
    "is_executing": true
   },
   "id": "8c79f199fd3de597",
   "execution_count": null
  },
  {
   "cell_type": "code",
   "outputs": [],
   "source": [
    "\n",
    "\n",
    "\"\"\"\n",
    "# Hierarchical categories of all articles.\n",
    "# Many articles have more than one category. Some articles have no category.\n",
    "# Article names are URL-encoded; e.g., in Java they can be decoded using java.net.URLDecoder.decode(articleName, \"UTF-8\").\n",
    "# FORMAT:   article   category\n",
    "#\n",
    "# When publishing on this data set, please cite:\n",
    "# (1) Robert West and Jure Leskovec:\n",
    "#     Human Wayfinding in Information Networks.\n",
    "#     21st International World Wide Web Conference (WWW), 2012.\n",
    "# (2) Robert West, Joelle Pineau, and Doina Precup:\n",
    "#     Wikispeedia: An Online Game for Inferring Semantic Distances between Concepts.\n",
    "#     21st International Joint Conference on Artificial Intelligence (IJCAI), 2009.\"\"\"\n",
    "\n",
    "categories = pd.read_csv(\"../wikispeedia_paths-and-graph/wikispeedia_paths-and-graph/categories.tsv\", sep='\\t', header=None)\n",
    "categories.columns = [\"article\", \"category\"]\n",
    "categories[\"category\"] =categories[\"category\"].apply(lambda x: x.split(\".\")[1:])\n",
    "categories"
   ],
   "metadata": {
    "collapsed": false,
    "is_executing": true
   },
   "id": "56c0d148ada1c5d1",
   "execution_count": null
  },
  {
   "cell_type": "code",
   "outputs": [],
   "source": [
    "def compare_categories(category1, category2):\n",
    "    return len(set(category1).intersection(set(category2)))"
   ],
   "metadata": {
    "collapsed": false,
    "is_executing": true
   },
   "id": "41a749fc12e67f92",
   "execution_count": null
  },
  {
   "cell_type": "code",
   "outputs": [],
   "source": [
    "unfinished_paths[\"source\"] = unfinished_paths[\"path\"].apply(lambda x: x[0])\n",
    "finished_paths[\"source\"] = finished_paths[\"path\"].apply(lambda x: x[0])\n",
    "finished_paths[\"target\"] = finished_paths[\"path\"].apply(lambda x: x[-1])"
   ],
   "metadata": {
    "collapsed": false,
    "is_executing": true
   },
   "id": "d24be624da729646",
   "execution_count": null
  },
  {
   "cell_type": "code",
   "outputs": [],
   "source": [
    "unfinished_paths = unfinished_paths.merge(categories, left_on=\"source\", right_on=\"article\").rename(columns={\"category\": \"source_category\"})\n",
    "unfinished_paths = unfinished_paths.merge(categories, left_on=\"target\", right_on=\"article\").rename(columns={\"category\": \"target_category\"})\n",
    "finished_paths = finished_paths.merge(categories, left_on=\"source\", right_on=\"article\").rename(columns={\"category\": \"source_category\"})\n",
    "finished_paths = finished_paths.merge(categories, left_on=\"target\", right_on=\"article\").rename(columns={\"category\": \"target_category\"})\n",
    "unfinished_paths.drop(columns=[\"article_x\", \"article_y\"], inplace=True)\n",
    "finished_paths.drop(columns=[\"article_x\", \"article_y\"], inplace=True)"
   ],
   "metadata": {
    "collapsed": false,
    "is_executing": true
   },
   "id": "1a317eff8e944b51",
   "execution_count": null
  },
  {
   "cell_type": "code",
   "outputs": [],
   "source": [
    "unfinished_paths"
   ],
   "metadata": {
    "collapsed": false,
    "is_executing": true
   },
   "id": "b0db25ef58f0632a",
   "execution_count": null
  },
  {
   "cell_type": "code",
   "outputs": [],
   "source": [
    "finished_paths"
   ],
   "metadata": {
    "collapsed": false,
    "is_executing": true
   },
   "id": "d650f927cd0c5450",
   "execution_count": null
  },
  {
   "cell_type": "code",
   "outputs": [],
   "source": [
    "categories.to_csv(\"clean_categories.csv\", index=False)\n",
    "finished_paths.to_csv(\"clean_finished_paths.csv\", index=False)\n",
    "unfinished_paths.to_csv(\"clean_unfinished_paths.csv\", index=False)"
   ],
   "metadata": {
    "collapsed": false,
    "is_executing": true
   },
   "id": "c380fef7bfc43dd6",
   "execution_count": null
  },
  {
   "cell_type": "code",
   "outputs": [],
   "source": [],
   "metadata": {
    "collapsed": false,
    "ExecuteTime": {
     "end_time": "2024-10-29T17:11:41.153654Z",
     "start_time": "2024-10-29T17:11:41.149924Z"
    }
   },
   "id": "17dc2f0745af779f",
   "execution_count": 17
  }
 ],
 "metadata": {
  "kernelspec": {
   "display_name": "Python 3",
   "language": "python",
   "name": "python3"
  },
  "language_info": {
   "codemirror_mode": {
    "name": "ipython",
    "version": 2
   },
   "file_extension": ".py",
   "mimetype": "text/x-python",
   "name": "python",
   "nbconvert_exporter": "python",
   "pygments_lexer": "ipython2",
   "version": "2.7.6"
  }
 },
 "nbformat": 4,
 "nbformat_minor": 5
}
